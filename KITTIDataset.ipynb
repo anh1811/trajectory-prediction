{
  "cells": [
    {
      "cell_type": "markdown",
      "metadata": {
        "id": "view-in-github",
        "colab_type": "text"
      },
      "source": [
        "<a href=\"https://colab.research.google.com/github/anh1811/trajectory-prediction/blob/main/KITTIDataset.ipynb\" target=\"_parent\"><img src=\"https://colab.research.google.com/assets/colab-badge.svg\" alt=\"Open In Colab\"/></a>"
      ]
    },
    {
      "cell_type": "code",
      "execution_count": null,
      "metadata": {
        "id": "3dm7-rhykTyC"
      },
      "outputs": [],
      "source": [
        "import numpy as np\n",
        "import pandas as pd\n",
        "import matplotlib.pyplot as plt\n",
        "import os\n",
        "import torch\n",
        "from torch.utils.data import TensorDataset, DataLoader,  SequentialSampler\n",
        "from sklearn.model_selection import train_test_split\n",
        "from torch import nn\n",
        "from torch.optim.lr_scheduler import ReduceLROnPlateau\n",
        "from tqdm.notebook import tqdm\n",
        "from torch.nn import functional as F"
      ]
    },
    {
      "cell_type": "code",
      "source": [
        "from google.colab import drive\n",
        "drive.mount('/content/drive')"
      ],
      "metadata": {
        "colab": {
          "base_uri": "https://localhost:8080/"
        },
        "id": "IVEgaQWkk0Nd",
        "outputId": "b5f97992-fb75-4422-f491-eb5a3aa8292e"
      },
      "execution_count": null,
      "outputs": [
        {
          "output_type": "stream",
          "name": "stdout",
          "text": [
            "Mounted at /content/drive\n"
          ]
        }
      ]
    },
    {
      "cell_type": "code",
      "execution_count": null,
      "metadata": {
        "colab": {
          "base_uri": "https://localhost:8080/"
        },
        "id": "lM5dALsHkTyK",
        "outputId": "63b0ce59-e9ab-4915-a7a0-3ced51ab9ed3"
      },
      "outputs": [
        {
          "output_type": "stream",
          "name": "stdout",
          "text": [
            "/content/drive/MyDrive\n"
          ]
        }
      ],
      "source": [
        "%cd /content/drive/MyDrive\n",
        "# %cd /content/drive/MyDrive/viettle/miniproject/sequencer"
      ]
    },
    {
      "cell_type": "code",
      "source": [
        "def xywh2xyxy(bbox):\n",
        "  return bbox[0], bbox[1], bbox[2] + bbox[0], bbox[3] + bbox[1]\n",
        "\n",
        "def xyxy2cxcy(bbox):\n",
        "  return (bbox[0] + bbox[2])/2, (bbox[1] + bbox[3])/2, bbox[2] - bbox[0], bbox[3] - bbox[1] \n",
        "\n",
        "\n",
        "def xywh2cxcy(bbox):\n",
        "  return bbox[0] + bbox[2]/2.0, bbox[1] + bbox[3]/2.0, bbox[2], bbox[3]\n",
        "\n",
        "def Euclipe_dis(bbox1, bbox2):\n",
        "  return np.sqrt((bbox1[0] - bbox2[0])**2 + (bbox1[1] - bbox2[1])**2)\n",
        "\n",
        "def scale(bbox, h_pic = 1920, w_pic = 2560):\n",
        "  if len(bbox) == 2:\n",
        "    return bbox[0]/w_pic, bbox[1]/h_pic\n",
        "  else: \n",
        "    return bbox[0]/w_pic, bbox[1]/h_pic, bbox[2]/w_pic, bbox[3]/h_pic\n",
        "\n",
        "def checknois(bboxes):\n",
        "  num_noise = 0\n",
        "  for i in range(len(bboxes)-1):\n",
        "    if Euclipe_dis(bboxes[i], bboxes[i+1]) > 0.1:\n",
        "      num_noise += 1\n",
        "  if num_noise >= 2:\n",
        "    return True\n",
        "  else:\n",
        "    return False\n",
        "\n",
        "def xywh2cxcyah(bbox):\n",
        "  return bbox[0] + bbox[2]/2.0, bbox[1] + bbox[3]/2.0, bbox[3]/bbox[2], bbox[3]\n",
        "\n",
        "def count_parameters(model):\n",
        "    return sum(p.numel() for p in model.parameters() if p.requires_grad)\n",
        "\n",
        "def generalized_iou(gt_bboxes, pr_bboxes, reduction='mean'):\n",
        "    \"\"\"\n",
        "    gt_bboxes: tensor (-1, 4) xyxy\n",
        "    pr_bboxes: tensor (-1, 4) xyxy\n",
        "    loss proposed in the paper of giou\n",
        "    \"\"\"\n",
        "    gt_area = (gt_bboxes[:, 2]-gt_bboxes[:, 0])*(gt_bboxes[:, 3]-gt_bboxes[:, 1])\n",
        "    pr_area = (pr_bboxes[:, 2]-pr_bboxes[:, 0])*(pr_bboxes[:, 3]-pr_bboxes[:, 1])\n",
        "\n",
        "    # iou\n",
        "    lt = torch.max(gt_bboxes[:, :2], pr_bboxes[:, :2])\n",
        "    rb = torch.min(gt_bboxes[:, 2:], pr_bboxes[:, 2:])\n",
        "    TO_REMOVE = 0\n",
        "    wh = (rb - lt + TO_REMOVE).clamp(min=0)\n",
        "    inter = wh[:, 0] * wh[:, 1]\n",
        "    union = gt_area + pr_area - inter\n",
        "    iou = inter / union\n",
        "    # # enclosure\n",
        "    # lt = torch.min(gt_bboxes[:, :2], pr_bboxes[:, :2])\n",
        "    # rb = torch.max(gt_bboxes[:, 2:], pr_bboxes[:, 2:])\n",
        "    # wh = (rb - lt + TO_REMOVE).clamp(min=0)\n",
        "    # enclosure = wh[:, 0] * wh[:, 1]\n",
        "\n",
        "    # giou = iou - (enclosure-union)/enclosure\n",
        "    # loss = 1. - giou\n",
        "    if reduction == 'mean':\n",
        "        iou = iou.mean()\n",
        "    elif reduction == 'sum':\n",
        "        iou =iou.sum()\n",
        "    elif reduction == 'none':\n",
        "        pass\n",
        "    return iou"
      ],
      "metadata": {
        "id": "EVLLObxnmu1t"
      },
      "execution_count": null,
      "outputs": []
    },
    {
      "cell_type": "code",
      "execution_count": null,
      "metadata": {
        "id": "GnyYRwBskTyQ"
      },
      "outputs": [],
      "source": [
        "import os\n",
        "folder_dir = './training/label_02'\n",
        "list_dir = os.listdir(folder_dir)\n",
        "b= dict()\n",
        "for file in list_dir:\n",
        "    train_dir = os.path.join(folder_dir, file)\n",
        "    label  = train_dir.split('/')[-1]\n",
        "    f = open(train_dir, \"r\")\n",
        "    for line in f.readlines():\n",
        "        a = (line.split(' '))\n",
        "        if int(a[1]) >= 0:\n",
        "            id = label + '_' + a[1]\n",
        "            if id in b.keys():\n",
        "                b[id].append(scale([float(coordinate) for coordinate in a[6:10]], h_pic = 512, w_pic=1382))\n",
        "            else:\n",
        "                b[id] = list()\n",
        "                b[id].append(scale([float(coordinate) for coordinate in a[6:10]], h_pic = 512, w_pic=1382)) "
      ]
    },
    {
      "cell_type": "code",
      "execution_count": null,
      "metadata": {
        "id": "e4fUWrZ7kTyR"
      },
      "outputs": [],
      "source": [
        "def create_train_list(list_ID, len_seq):\n",
        "  train_list = []\n",
        "  for items in list_ID.items():\n",
        "    id_for_one_obj = items[1]\n",
        "    len_items = len(id_for_one_obj)\n",
        "    if len_items >= len_seq:\n",
        "      for i,id in enumerate(id_for_one_obj[:-len_seq - 1]):\n",
        "          train_list.append(list(id_for_one_obj[i:i+len_seq]))\n",
        "      train_list.append(list(id_for_one_obj[-len_seq:]))\n",
        "  return train_list"
      ]
    },
    {
      "cell_type": "code",
      "execution_count": null,
      "metadata": {
        "colab": {
          "base_uri": "https://localhost:8080/"
        },
        "id": "khGYbue2kTyS",
        "outputId": "5ea63db2-eb2e-4c5f-8f6e-2e8f4c15146a"
      },
      "outputs": [
        {
          "output_type": "execute_result",
          "data": {
            "text/plain": [
              "[(0.4012200238784371, 0.32505196875, 0.48187896671490593, 0.530867029296875),\n",
              " (0.4142244667149059, 0.324641796875, 0.49494249348769903, 0.52942728125),\n",
              " (0.4271068306801737,\n",
              "  0.324235603515625,\n",
              "  0.5078791367583213,\n",
              "  0.528001759765625),\n",
              " (0.43986882416787265, 0.32383333203125, 0.5206907358900145, 0.52659025390625),\n",
              " (0.45339447973950797,\n",
              "  0.322442732421875,\n",
              "  0.5340420390738061,\n",
              "  0.52388970703125),\n",
              " (0.4667688986975398, 0.323074458984375, 0.5472892923299566, 0.52326152734375)]"
            ]
          },
          "metadata": {},
          "execution_count": 7
        }
      ],
      "source": [
        "train_list = create_train_list(b, 6)\n",
        "train_list[0]"
      ]
    },
    {
      "cell_type": "code",
      "execution_count": null,
      "metadata": {
        "id": "Efj9x9oLkTyT"
      },
      "outputs": [],
      "source": [
        "import numpy as np\n",
        "\n",
        "# def checkidle(bboxes):\n",
        "#   return np.conv(bbox)\n",
        "def create_dataset_kitti_(train_list, type_box = 'xyxy', transformer = False):\n",
        "  datas = list()\n",
        "  labels = list()\n",
        "  for seq in train_list:\n",
        "    bbox_cxcy = [xyxy2cxcy(bbox) for bbox in seq[:-1]]\n",
        "    if np.var(bbox_cxcy) > 1e-5 and not checknois(bbox_cxcy):\n",
        "      # bbox_seq = [xywh2xyxy(attr['bbox']) for attr in bbox_list]\n",
        "      if type_box == 'xyxy':\n",
        "        datas.append(seq[:-1])\n",
        "        if transformer:\n",
        "          label = seq[1:] + seq[-1]\n",
        "        else:\n",
        "          label = seq[-1]\n",
        "        labels.append(label)\n",
        "      elif type_box == 'cxcy':\n",
        "        datas.append(bbox_cxcy)\n",
        "        labels.append(xyxy2cxcy(seq[-1]))\n",
        "      \n",
        "  return np.array(datas, dtype='float32'), np.array(labels, dtype='float32')"
      ]
    },
    {
      "cell_type": "code",
      "source": [
        "x_scale, y_scale = create_dataset_kitti(train_list)\n",
        "\n",
        "def dataloader(X, y, batch_size = 128):\n",
        "  inputs = torch.tensor(X)\n",
        "  labels = torch.tensor(y)\n",
        "\n",
        "  data = TensorDataset(inputs, labels)\n",
        "  sampler = SequentialSampler(data)\n",
        "  dataloader = DataLoader(data, sampler=sampler,batch_size=batch_size)\n",
        "\n",
        "  return dataloader"
      ],
      "metadata": {
        "id": "a6aAYxudnHqM"
      },
      "execution_count": null,
      "outputs": []
    },
    {
      "cell_type": "code",
      "source": [
        "x_train, x_test, y_train, y_test = train_test_split(x_scale, y_scale, test_size=0.2, shuffle=True, random_state=42)\n",
        "x_train, x_val, y_train, y_val = train_test_split(x_train, y_train, test_size=0.2, shuffle = True, random_state=42)"
      ],
      "metadata": {
        "id": "mpGr-OBuoQA6"
      },
      "execution_count": null,
      "outputs": []
    },
    {
      "cell_type": "markdown",
      "metadata": {
        "id": "D7XKrnORPZy7"
      },
      "source": [
        "#Model"
      ]
    },
    {
      "cell_type": "code",
      "execution_count": null,
      "metadata": {
        "id": "dG_n7dXPPGZb"
      },
      "outputs": [],
      "source": [
        "class LSTMRegression(nn.Module):\n",
        "    def __init__(self, input_dim, hidden_dim, output_dim):\n",
        "        super(LSTMRegression, self).__init__()\n",
        "\n",
        "        # Defining the number of nodes in each layer\n",
        "        self.hidden_dim = hidden_dim\n",
        "\n",
        "        # LSTM layer\n",
        "        self.lstm1 = nn.LSTM(input_dim, hidden_dim, batch_first=True)\n",
        "        self.lstm2 = nn.LSTM(hidden_dim, hidden_dim, batch_first=True)\n",
        "        self.lstm3 = nn.LSTM(2*hidden_dim, hidden_dim, batch_first=True)\n",
        "        self.lstm4 = nn.LSTM(3*hidden_dim, hidden_dim, batch_first=True)\n",
        "        self.lstm5 = nn.LSTM(4*hidden_dim, hidden_dim, batch_first=True)\n",
        "        # self.lstm6 = nn.LSTM(5*hidden_dim, hidden_dim, batch_first=True)\n",
        "        # self.lstm7 = nn.LSTM(6*hidden_dim, hidden_dim, batch_first=True)\n",
        "        # self.lstm8 = nn.LSTM(7*hidden_dim, hidden_dim, batch_first=True)\n",
        "        self.cnn1d = nn.Conv1d(in_channels=5*hidden_dim,out_channels=128, kernel_size=3, padding=1) # (64, 2048, 5) => (64, 128, 5)\n",
        "\n",
        "        # Fully connected layer\n",
        "        self.fc = nn.Linear(128, output_dim)\n",
        "        self.sigmoid = nn.Sigmoid()\n",
        "    \n",
        "    def forward(self, x):\n",
        "        h0, c0 = self.init_hidden(x)\n",
        "        out1, (h1, c1) = self.lstm1(x, (h0, c0))\n",
        "        out2, (h2, c2) = self.lstm2(out1, (h1, c1))\n",
        "        x2 = torch.cat((out1, out2), 2)\n",
        "        out3, (h3, c3) = self.lstm3(x2, (h2, c2))\n",
        "        x3 = torch.cat((out1, out2, out3), 2)\n",
        "        out4, (h4, c4) = self.lstm4(x3, (h3, c3))\n",
        "        x4 = torch.cat((out1, out2, out3, out4), 2)\n",
        "        out5, (h5, c5) = self.lstm5(x4, (h4, c4))\n",
        "        x5 = torch.cat((out1, out2, out3, out4, out5), 2)\n",
        "        # out6, (h6, c6) = self.lstm6(x5, (h5, c5))\n",
        "        # x6 = torch.cat((out1, out2, out3, out4, out5, out6), 2)\n",
        "        # out7, (h7, c7) = self.lstm7(x6, (h6, c6))\n",
        "        # x7 = torch.cat((out1, out2, out3, out4, out5, out6, out7), 2)\n",
        "        # out8, (h8, c8) = self.lstm8(x7, (h7, c7))\n",
        "        # x8 = torch.cat((out1, out2, out3, out4, out5, out6, out7, out8), 2)\n",
        "        x5 = torch.transpose(x5, 1, 2)\n",
        "        out = self.cnn1d(x5)\n",
        "        out = torch.tanh(out)\n",
        "        out, indices = F.max_pool1d(out ,out.size(2), return_indices=True)\n",
        "        out = out.squeeze()\n",
        "        out = self.fc(out)\n",
        "        out = self.sigmoid(out)\n",
        "\n",
        "        return out\n",
        "    \n",
        "    def init_hidden(self, x):\n",
        "        # Initializing hidden state for first input with zeros\n",
        "        h0 = torch.zeros(1, x.size(0), self.hidden_dim)\n",
        "        # Initializing cell state for first input with zeros\n",
        "        c0 = torch.zeros(1, x.size(0), self.hidden_dim)\n",
        "        return [t.cuda() for t in (h0, c0)]"
      ]
    },
    {
      "cell_type": "code",
      "source": [
        "class Attention(nn.Module):\n",
        "    def __init__(self, hidden_size, units = 128):\n",
        "        super(Attention, self).__init__()\n",
        "        self.hidden_size = hidden_size\n",
        "        self.concat_linear = nn.Linear(self.hidden_size * 2, units)\n",
        "        self.attn = nn.Linear(self.hidden_size, hidden_size)\n",
        "        self.other = torch.FloatTensor(1, hidden_size)\n",
        "\n",
        "    def forward(self, outputs, final_hidden_state):\n",
        "        # rnn_output.shape:         (batch_size, seq_len, hidden_size)\n",
        "        # final_hidden_state.shape: (batch_size, hidden_size)\n",
        "        # NOTE: hidden_size may also reflect bidirectional hidden states (hidden_size = num_directions * hidden_dim)\n",
        "        batch_size, seq_len, _ = outputs.shape\n",
        "        # if self.method == AttentionModel.DOT:\n",
        "        #     attn_weights = torch.bmm(rnn_outputs, final_hidden_state.unsqueeze(2))\n",
        "        # elif self.method == AttentionModel.GENERAL:\n",
        "        attn_weights = self.attn(outputs) # (batch_size, seq_len, hidden_dim)\n",
        "        attn_weights = torch.bmm(attn_weights, final_hidden_state.unsqueeze(2))\n",
        "        attn_weights = F.softmax(attn_weights.squeeze(2), dim=1)\n",
        "\n",
        "        context = torch.bmm(outputs.transpose(1, 2), attn_weights.unsqueeze(2)).squeeze(2)\n",
        "\n",
        "        attn_hidden = torch.tanh(self.concat_linear(torch.cat((context, final_hidden_state), dim=1)))\n",
        "\n",
        "        return attn_hidden\n",
        "\n",
        "\n",
        "class LSTM_Attention(nn.Module):\n",
        "    def __init__(self, input_dim, hidden_dim, output_dim):\n",
        "        super(LSTM_Attention, self).__init__()\n",
        "\n",
        "        # Defining the number of nodes in each layer\n",
        "        self.hidden_dim = hidden_dim\n",
        "\n",
        "        # LSTM layer\n",
        "        self.lstm1 = nn.LSTM(input_dim, hidden_dim,  batch_first=True)\n",
        "        self.dropout = nn.Dropout(p=0.2)\n",
        "        self.lstm2 = nn.LSTM(hidden_dim, hidden_dim, batch_first=True)\n",
        "        self.lstm3 = nn.LSTM(hidden_dim, hidden_dim, batch_first = True)\n",
        "        # self.lstm3 = nn.LSTM(2*hidden_dim, hidden_dim, batch_first=True)\n",
        "        # self.lstm4 = nn.LSTM(3*hidden_dim, hidden_dim, batch_first=True)\n",
        "        # self.lstm5 = nn.LSTM(4*hidden_dim, hidden_dim, batch_first=True)\n",
        "        self.attention = Attention(hidden_dim)\n",
        "\n",
        "        # Fully connected layer\n",
        "        self.fc1 = nn.Linear(128, 256)\n",
        "        self.leakyRelu = nn.LeakyReLU()\n",
        "        self.fc2 = nn.Linear(256, output_dim)\n",
        "        self.sigmoid = nn.Sigmoid()\n",
        "    \n",
        "    def forward(self, x):\n",
        "        batch_size = x.size(0)\n",
        "        h0, c0 = self.init_hidden(x)\n",
        "        out1, (h1, c1) = self.lstm1(x, (h0, c0))\n",
        "        out1 = self.dropout(out1)\n",
        "        out2, (h2, c2) = self.lstm2(out1, (h1, c1))\n",
        "        out3, (h3,c3) = self.lstm3(out2, (h2,c2))\n",
        "        out3 = self.dropout(out3)\n",
        "        final_state = h3.squeeze(0)\n",
        "        out = self.attention(out3, final_state)\n",
        "        out = self.fc1(out)\n",
        "        out = self.leakyRelu(out)\n",
        "        out = self.sigmoid(self.fc2(out))\n",
        "\n",
        "        return out\n",
        "    \n",
        "    def init_hidden(self, x):\n",
        "        # Initializing hidden state for first input with zeros\n",
        "        h0 = torch.zeros(1, x.size(0), self.hidden_dim)\n",
        "        # Initializing cell state for first input with zeros\n",
        "        c0 = torch.zeros(1, x.size(0), self.hidden_dim)\n",
        "        return [t.cuda() for t in (h0, c0)]"
      ],
      "metadata": {
        "id": "qZr6X2uw2ZIc"
      },
      "execution_count": null,
      "outputs": []
    },
    {
      "cell_type": "code",
      "source": [
        "import math\n",
        "import warnings\n",
        "def ciou_loss(pred, target, eps=1e-6, reduction='mean'):\n",
        "    \"\"\"`Implementation of paper `Enhancing Geometric Factors into\n",
        "    Model Learning and Inference for Object Detection and Instance\n",
        "    Segmentation <https://arxiv.org/abs/2005.03572>`_.\n",
        "\n",
        "    Code is modified from https://github.com/Zzh-tju/CIoU.\n",
        "\n",
        "    Args:\n",
        "        pred (Tensor): Predicted bboxes of format (x1, y1, x2, y2),\n",
        "            shape (n, 4).\n",
        "        target (Tensor): Corresponding gt bboxes, shape (n, 4).\n",
        "        eps (float): Eps to avoid log(0).\n",
        "    Return:\n",
        "        Tensor: Loss tensor.\n",
        "    \"\"\"\n",
        "    # overlap\n",
        "    lt = torch.max(pred[:, :2], target[:, :2])\n",
        "    rb = torch.min(pred[:, 2:], target[:, 2:])\n",
        "    wh = (rb - lt).clamp(min=0)\n",
        "    overlap = wh[:, 0] * wh[:, 1]\n",
        "\n",
        "    # union\n",
        "    ap = (pred[:, 2] - pred[:, 0]) * (pred[:, 3] - pred[:, 1])\n",
        "    ag = (target[:, 2] - target[:, 0]) * (target[:, 3] - target[:, 1])\n",
        "    union = ap + ag - overlap + eps\n",
        "\n",
        "    ious = overlap / union\n",
        "\n",
        "    # enclose area\n",
        "    enclose_x1y1 = torch.min(pred[:, :2], target[:, :2])\n",
        "    enclose_x2y2 = torch.max(pred[:, 2:], target[:, 2:])\n",
        "    enclose_wh = (enclose_x2y2 - enclose_x1y1).clamp(min=0)\n",
        "\n",
        "    cw = enclose_wh[:, 0]\n",
        "    ch = enclose_wh[:, 1]\n",
        "\n",
        "    c2 = cw**2 + ch**2 + eps\n",
        "\n",
        "    b1_x1, b1_y1 = pred[:, 0], pred[:, 1]\n",
        "    b1_x2, b1_y2 = pred[:, 2], pred[:, 3]\n",
        "    b2_x1, b2_y1 = target[:, 0], target[:, 1]\n",
        "    b2_x2, b2_y2 = target[:, 2], target[:, 3]\n",
        "\n",
        "    w1, h1 = b1_x2 - b1_x1, b1_y2 - b1_y1 + eps\n",
        "    w2, h2 = b2_x2 - b2_x1, b2_y2 - b2_y1 + eps\n",
        "\n",
        "    left = ((b2_x1 + b2_x2) - (b1_x1 + b1_x2))**2 / 4\n",
        "    right = ((b2_y1 + b2_y2) - (b1_y1 + b1_y2))**2 / 4\n",
        "    rho2 = left + right\n",
        "\n",
        "    factor = 4 / math.pi**2\n",
        "    v = factor * torch.pow(torch.atan(w2 / h2) - torch.atan(w1 / h1), 2)\n",
        "\n",
        "    with torch.no_grad():\n",
        "        alpha = (ious > 0.5).float() * v / (1 - ious + v)\n",
        "\n",
        "    # CIoU\n",
        "    cious = ious - (rho2 / c2 + alpha * v)\n",
        "    loss = 1 - cious.clamp(min=-1.0, max=1.0)\n",
        "    if reduction == 'mean':\n",
        "        loss = loss.mean()\n",
        "    elif reduction == 'sum':\n",
        "        loss = loss.sum()\n",
        "    elif reduction == 'none':\n",
        "        pass\n",
        "    return loss\n",
        "\n",
        "\n",
        "class CIoULoss(nn.Module):\n",
        "\n",
        "    def __init__(self, eps=1e-6, reduction='mean', loss_weight=1.0):\n",
        "        super(CIoULoss, self).__init__()\n",
        "        self.eps = eps\n",
        "        self.reduction = reduction\n",
        "        self.loss_weight = loss_weight\n",
        "\n",
        "    def forward(self,\n",
        "                pred,\n",
        "                target,\n",
        "                weight=None,\n",
        "                avg_factor=None,\n",
        "                reduction_override=None,\n",
        "                **kwargs):\n",
        "        if weight is not None and not torch.any(weight > 0):\n",
        "            if pred.dim() == weight.dim() + 1:\n",
        "                weight = weight.unsqueeze(1)\n",
        "            return (pred * weight).sum()  # 0\n",
        "        assert reduction_override in (None, 'none', 'mean', 'sum')\n",
        "        reduction = (\n",
        "            reduction_override if reduction_override else self.reduction)\n",
        "        if weight is not None and weight.dim() > 1:\n",
        "            # TODO: remove this in the future\n",
        "            # reduce the weight of shape (n, 4) to (n,) to match the\n",
        "            # giou_loss of shape (n,)\n",
        "            assert weight.shape == pred.shape\n",
        "            weight = weight.mean(-1)\n",
        "        loss = self.loss_weight * ciou_loss(\n",
        "            pred,\n",
        "            target,\n",
        "            # weight,\n",
        "            eps=self.eps,\n",
        "            reduction=reduction,\n",
        "            # avg_factor=avg_factor,\n",
        "            # **kwargs\n",
        "        )\n",
        "        return loss\n",
        "\n",
        "\n",
        "\n",
        "class LossMSE_YOLOv1(nn.Module):\n",
        "\n",
        "  def __init__(self, reduction = 'mean'):\n",
        "      super(LossMSE_YOLOv1, self).__init__()\n",
        "      self.mse = nn.MSELoss(reduction = reduction)\n",
        "  \n",
        "  def forward(self, prediction, target):\n",
        "    loss = self.mse(prediction[:,:2], target[:,:2]) + self.mse(torch.sqrt(prediction[:,2:4]),torch.sqrt(target[:,2:4]))\n",
        "    return loss.float()"
      ],
      "metadata": {
        "id": "8Di809VuvXAR"
      },
      "execution_count": null,
      "outputs": []
    },
    {
      "cell_type": "code",
      "execution_count": null,
      "metadata": {
        "id": "26IFsavZReLs"
      },
      "outputs": [],
      "source": [
        "def train(model, X_train, y_train, X_val, y_val, lr, epochs, writer, path_save, loss_type = 'ciou', patience = 12, transformer = False):\n",
        "  train_dataloader = dataloader(X_train, y_train)\n",
        "  val_dataloader = dataloader(X_val, y_val)\n",
        "\n",
        "  if loss_type == 'ciou':\n",
        "    criterion = CIoULoss()\n",
        "  elif loss_type == 'mse':\n",
        "    criterion = LossMSE_YOLOv1()\n",
        "  opt = torch.optim.Adam(model.parameters(), lr=lr)\n",
        "  sched = ReduceLROnPlateau(opt, threshold=1e-4, min_lr=1e-7, patience = patience)\n",
        "\n",
        "  patience, trials = 25, 0\n",
        "  train_losses, val_losses = [], []\n",
        "  train_iou_losses, val_iou_losses = [], []\n",
        "  val_loss_min = 100\n",
        "\n",
        "  for epoch in range(epochs):\n",
        "    print('======== Epoch {:} ========'.format(epoch + 1))\n",
        "\n",
        "    total_loss = 0\n",
        "    model.train()\n",
        "\n",
        "\n",
        "    for step, batch in tqdm(enumerate(train_dataloader)):\n",
        "      x_batch = batch[0].cuda()\n",
        "      y_batch = batch[1].cuda()\n",
        "      opt.zero_grad()\n",
        "      out = model(x_batch)\n",
        "      \n",
        "      if transformer:\n",
        "        num_fea = out.size(2)\n",
        "        out = out.view(-1, num_fea)\n",
        "        y_batch = y_batch.view(-1, num_fea)\n",
        "      loss = criterion(out, y_batch)\n",
        "      total_loss += loss.item()\n",
        "\n",
        "      \n",
        "      loss.backward()\n",
        "      opt.step()\n",
        "\n",
        "    train_loss = total_loss / len(train_dataloader)\n",
        "    # train_iou_loss = giou_loss/ len(train_dataloader)\n",
        "\n",
        "    model.eval()\n",
        "    total_val_loss = 0\n",
        "    val_iou_loss = 0\n",
        "\n",
        "    with torch.no_grad():\n",
        "      for batch in tqdm(val_dataloader):\n",
        "        x_val = batch[0].cuda()\n",
        "        y_val = batch[1].cuda()\n",
        "        out = model(x_val)\n",
        "        if transformer:\n",
        "          num_fea = out.size(2)\n",
        "          out = out.view(-1, num_fea)\n",
        "          y_val = y_val.view(-1, num_fea)\n",
        "        loss = criterion(out, y_val)\n",
        "        total_val_loss += loss.item()\n",
        "        # val_iou_loss += generalized_iou_loss(y_val, out)\n",
        "      \n",
        "      val_loss = total_val_loss/len(val_dataloader)\n",
        "      # val_iou_loss = val_iou_loss/len(val_dataloader)\n",
        "      sched.step(val_loss)\n",
        "\n",
        "    if val_loss < val_loss_min:\n",
        "        trials = 0\n",
        "        torch.save({\n",
        "        'epoch': epoch,\n",
        "        'model_state_dict': model.state_dict(),\n",
        "            }, path_save)\n",
        "        val_loss_min = val_loss\n",
        "    else:\n",
        "        trials += 1\n",
        "        if trials >= patience:\n",
        "            print(f'Early stopping on epoch {epoch + 1}')\n",
        "            break\n",
        "    \n",
        "    print('Epoch[{}/{}]: train_loss: {:.10f}, val_loss:{:.10f}'.format(epoch, epochs, train_loss, val_loss))\n",
        "    #add to tensorboard\n",
        "    writer.add_scalars(f'loss traing', {\n",
        "        'train': train_loss,\n",
        "        'val': val_loss,\n",
        "    }, epoch)\n",
        "  return model"
      ]
    },
    {
      "cell_type": "code",
      "execution_count": null,
      "metadata": {
        "id": "ubDJQ1iBW4N6"
      },
      "outputs": [],
      "source": [
        "def count_parameters(model):\n",
        "    return sum(p.numel() for p in model.parameters() if p.requires_grad)\n",
        "\n",
        "def generalized_iou(gt_bboxes, pr_bboxes, reduction='mean'):\n",
        "    \"\"\"\n",
        "    gt_bboxes: tensor (-1, 4) xyxy\n",
        "    pr_bboxes: tensor (-1, 4) xyxy\n",
        "    loss proposed in the paper of giou\n",
        "    \"\"\"\n",
        "    gt_area = (gt_bboxes[:, 2]-gt_bboxes[:, 0])*(gt_bboxes[:, 3]-gt_bboxes[:, 1])\n",
        "    pr_area = (pr_bboxes[:, 2]-pr_bboxes[:, 0])*(pr_bboxes[:, 3]-pr_bboxes[:, 1])\n",
        "\n",
        "    # iou\n",
        "    lt = torch.max(gt_bboxes[:, :2], pr_bboxes[:, :2])\n",
        "    rb = torch.min(gt_bboxes[:, 2:], pr_bboxes[:, 2:])\n",
        "    TO_REMOVE = 0\n",
        "    wh = (rb - lt + TO_REMOVE).clamp(min=0)\n",
        "    inter = wh[:, 0] * wh[:, 1]\n",
        "    union = gt_area + pr_area - inter\n",
        "    iou = inter / union\n",
        "\n",
        "    if reduction == 'mean':\n",
        "        iou = iou.mean()\n",
        "    elif reduction == 'sum':\n",
        "        iou =iou.sum()\n",
        "    elif reduction == 'none':\n",
        "        pass\n",
        "    return iou"
      ]
    },
    {
      "cell_type": "code",
      "source": [
        "x_train[0]"
      ],
      "metadata": {
        "colab": {
          "base_uri": "https://localhost:8080/"
        },
        "id": "0haHB3g9qrMy",
        "outputId": "61d14ab1-076a-42f6-8e5c-cd2998133930"
      },
      "execution_count": null,
      "outputs": [
        {
          "output_type": "execute_result",
          "data": {
            "text/plain": [
              "array([[0.4343453 , 0.3570865 , 0.4856105 , 0.4889641 ],\n",
              "       [0.43418545, 0.35715538, 0.48464862, 0.48699075],\n",
              "       [0.4338491 , 0.35637265, 0.4838297 , 0.48480797],\n",
              "       [0.43351907, 0.3556022 , 0.48302627, 0.48266616],\n",
              "       [0.4331952 , 0.3548437 , 0.48223794, 0.4805642 ]], dtype=float32)"
            ]
          },
          "metadata": {},
          "execution_count": 15
        }
      ]
    },
    {
      "cell_type": "code",
      "source": [
        "num_frames_input = 6\n",
        "from torch.utils.tensorboard import SummaryWriter\n",
        "writer = SummaryWriter('./output/5lstm_KITTI{}'.format(num_frames_input))\n",
        "input_dim = 4 \n",
        "hidden_dim = 256\n",
        "output_dim = 4\n",
        "# path_pretrained = './output/Lstm_Attetion.bestweight{}'.format(num_frames_input)\n",
        "path_pretrained = './output/5lstm_CIOULoss.bestweight{}'.format(num_frames_input)\n",
        "path_save = './output/5lstm_KITTI.bestweight{}'.format(num_frames_input)\n",
        "\n",
        "lr = 0.0001\n",
        "n_epochs = 30\n",
        "# model = LSTM_Attention(input_dim, hidden_dim, output_dim)\n",
        "model = LSTMRegression(input_dim, hidden_dim, output_dim)\n",
        "# model = model.cuda()\n",
        "# model = train(model, x_train, y_train, x_val, y_val,lr = lr, epochs = n_epochs, writer = writer, path_save = path_save)\n",
        "\n",
        "checkpoint = torch.load(path_pretrained)\n",
        "model.load_state_dict(checkpoint['model_state_dict'])\n",
        "model = model.cuda()"
      ],
      "metadata": {
        "id": "sE0-MFrenpsm"
      },
      "execution_count": null,
      "outputs": []
    },
    {
      "cell_type": "code",
      "source": [
        "out = model(torch.as_tensor(x_train[:10]).cuda())\n",
        "out.size()"
      ],
      "metadata": {
        "colab": {
          "base_uri": "https://localhost:8080/"
        },
        "id": "A9UCjTWEq99t",
        "outputId": "07b0e894-7c0b-41d0-fb31-3aec33043a1a"
      },
      "execution_count": null,
      "outputs": [
        {
          "output_type": "stream",
          "name": "stderr",
          "text": [
            "/usr/local/lib/python3.7/dist-packages/torch/nn/functional.py:651: UserWarning: Note that order of the arguments: ceil_mode and return_indices will changeto match the args list in nn.MaxPool1d in a future release.\n",
            "  warnings.warn(\"Note that order of the arguments: ceil_mode and return_indices will change\"\n"
          ]
        },
        {
          "output_type": "execute_result",
          "data": {
            "text/plain": [
              "torch.Size([10, 4])"
            ]
          },
          "metadata": {},
          "execution_count": 52
        }
      ]
    },
    {
      "cell_type": "code",
      "source": [
        "model = train(model, x_train, y_train, x_val, y_val,lr = lr, epochs = n_epochs, writer = writer, path_save = path_save)"
      ],
      "metadata": {
        "colab": {
          "base_uri": "https://localhost:8080/",
          "referenced_widgets": [
            "c8260ffae81a4bfca5c36e0bbffdf237",
            "440cc26a3bd04667991cf57a49cc121b",
            "63170d9a24194576b4ec06b8eb413754",
            "73d5d6dee9654d73b216f74647754850",
            "6c34905232cd415c8b4f4621699898e0",
            "53d9fbf03ad64e8ab1c260b253e36006",
            "b3f9e6b704ff48ef9532d59a7e019460",
            "fde02ac980214efea3304ac1fa461f46",
            "253bec549c5749f9a9971f7d05a87f1d",
            "436e0559d2e24680b48f71979d2e2085",
            "aee6d318f9504d9dae97866127bfc2f6",
            "763e5d7ec6e7418bba62b6615ffa5984",
            "a588857cd9674866a038225c898a2ac3",
            "c84e6286b44e47db90398bad0f0da264",
            "d59070b5ef1945c6bfb5dfa467ceb81d",
            "0f79c341cc1e443db453be6831754c4f",
            "adcdfda8837e4b7aa501f8181521407e",
            "5b1575c9f4b34c1bb21c404494231d0a",
            "aadc58d3df264dfc9ffaad7f7236e3d2",
            "b630152b88f34691bde687a74769d63b",
            "f71a340a5b854d5db80a687528164a2c",
            "134fc8cb8a75441cbfeaceef68c704e8",
            "bdcb92b7fc8b4e41a3096d49c6765602",
            "ab167c060d6d420f92c0ac1ca16d3d49",
            "55c3c40db59840ae936c79ad9d9a0171",
            "19970eb8ffc548dfbdd1057b403c8c71",
            "3082079e129843e5a0a278de331e57ca",
            "0b2328a059f04cc7a1a90604b316c021",
            "1ce6afc849894e278ac12bbc272793ae",
            "9c45998df5ee475a8eb54cf90634682f",
            "76258ed86a7e43638beb19437b413f55",
            "0bea608bbd1042b987481cd5c44946ce",
            "4cf721ed8e0b4903b4089a3e3a6db1ca",
            "9637c699a31248efab2866204a6ff47f",
            "b0530f3288744079907723ce1c227f00",
            "2c015da1a74a4b308ce686cfc91e52a5",
            "0ebb71ab959e4babb0b9861766defc73",
            "e3020434458240829a4cb1e1f24f9422",
            "4339d3254e1941dd8131f3611a90854b",
            "8427fb71125e4b499a6d0376d4c2dce2",
            "5dd2aeac416a48a9b1bb002ed58b6969",
            "832363c2c3b0476f9dd287e6244876e9",
            "fb4cf66bb22047c0adc71ad9b29ae0bb",
            "976ba0201aef4e8abdcb0d91ac3789c2",
            "b0475d735c3f4d36bb8fae2a09d29215",
            "e10dc9bb6c984084b2af0b59a1b9fff4",
            "41d3a0af1cd14cf3a00fce09bfda6f69",
            "35347f95985147048d825ef2cc24b866",
            "a296c5d921b3498c821a80c8cd64f75a",
            "d698f228ae2d4b6992810000f06d3043",
            "f8366d3010a947fc918dd92fc4fbbb5e",
            "43269ebaf7e144c68c130999281c9e19",
            "d1fc51ccc4bd4c0d84aa995d03de6ad2",
            "090473f896f242a193e335f72c639618",
            "6f1ed160d79b4467897c3e98f8828cab",
            "0d6460279d2b4351a5a0a18a2319c7bf",
            "2c8564c6f4a24ef5baa006f97ec95791",
            "ac0d3e1ce7b44d7e90ae3e15a5d08c48",
            "8ab12be18be04732bf3c135bcb4361fc",
            "6519a51731914834b67b99dc1ee8e3b2",
            "72e9047f97ef47619c6a318d7755d849",
            "d44487eca41e482b9549eeb0b6dafb1e",
            "218feb91777a475caa9d984810838260",
            "6338d626139e4490842ec8654dd256e2",
            "2aa50b0ec9a143749cc3ee7462615d24",
            "2fb836ae518e451681fe65fe129bfa31",
            "62a55258e7544d7389c1dadb4f5b6d0b",
            "04c3d67f1dd04dc384e1945b730c23fc",
            "e9521c9b94f74295a55d995ece208f15",
            "b995fb7bfa914d2a969cb7ddf5a84168",
            "6277769d4c4a4c69beeafa6755eb5894",
            "f8c09c329b284d5caa40b0f5fbd6bc0b",
            "a8877726debc4cfeaae1a71d123643c2",
            "503b31a9d0da446aa939cc710de8c55d",
            "81c9c79484d2495a986f7e67d9477e57",
            "210494990b0a428da0a256183c702351",
            "8f28e988a8be40d78d967486ef6be967",
            "78ba5bc9f2a94db693270717bd91b1d1",
            "b74448b2ba4a4e81b1e543243866e454",
            "586f910ac8cf4ee581b6e4348a8c934e",
            "30d84635eda548f3b5096dcb351d9cb8",
            "53ab790213604853b6ca0dbd1ce3cf64",
            "09d9e55f1fb44d92a94313bb3d992ebd",
            "4e54590307e4415795fdd32a5406bc64"
          ]
        },
        "id": "Mu-BGFMdpRQw",
        "outputId": "f0b43cdd-31e6-4fa9-e637-0a8866e163b3"
      },
      "execution_count": null,
      "outputs": [
        {
          "output_type": "stream",
          "name": "stdout",
          "text": [
            "======== Epoch 1 ========\n"
          ]
        },
        {
          "output_type": "display_data",
          "data": {
            "text/plain": [
              "0it [00:00, ?it/s]"
            ],
            "application/vnd.jupyter.widget-view+json": {
              "version_major": 2,
              "version_minor": 0,
              "model_id": "c8260ffae81a4bfca5c36e0bbffdf237"
            }
          },
          "metadata": {}
        },
        {
          "output_type": "stream",
          "name": "stderr",
          "text": [
            "/usr/local/lib/python3.7/dist-packages/torch/nn/functional.py:651: UserWarning: Note that order of the arguments: ceil_mode and return_indices will changeto match the args list in nn.MaxPool1d in a future release.\n",
            "  warnings.warn(\"Note that order of the arguments: ceil_mode and return_indices will change\"\n"
          ]
        },
        {
          "output_type": "display_data",
          "data": {
            "text/plain": [
              "  0%|          | 0/53 [00:00<?, ?it/s]"
            ],
            "application/vnd.jupyter.widget-view+json": {
              "version_major": 2,
              "version_minor": 0,
              "model_id": "763e5d7ec6e7418bba62b6615ffa5984"
            }
          },
          "metadata": {}
        },
        {
          "output_type": "stream",
          "name": "stdout",
          "text": [
            "Epoch[0/30]: train_loss: 0.1503484082, val_loss:0.1305411586\n",
            "======== Epoch 2 ========\n"
          ]
        },
        {
          "output_type": "display_data",
          "data": {
            "text/plain": [
              "0it [00:00, ?it/s]"
            ],
            "application/vnd.jupyter.widget-view+json": {
              "version_major": 2,
              "version_minor": 0,
              "model_id": "bdcb92b7fc8b4e41a3096d49c6765602"
            }
          },
          "metadata": {}
        },
        {
          "output_type": "display_data",
          "data": {
            "text/plain": [
              "  0%|          | 0/53 [00:00<?, ?it/s]"
            ],
            "application/vnd.jupyter.widget-view+json": {
              "version_major": 2,
              "version_minor": 0,
              "model_id": "0b2328a059f04cc7a1a90604b316c021"
            }
          },
          "metadata": {}
        },
        {
          "output_type": "stream",
          "name": "stdout",
          "text": [
            "Epoch[1/30]: train_loss: 0.1189330717, val_loss:0.1169470498\n",
            "======== Epoch 3 ========\n"
          ]
        },
        {
          "output_type": "display_data",
          "data": {
            "text/plain": [
              "0it [00:00, ?it/s]"
            ],
            "application/vnd.jupyter.widget-view+json": {
              "version_major": 2,
              "version_minor": 0,
              "model_id": "1ce6afc849894e278ac12bbc272793ae"
            }
          },
          "metadata": {}
        },
        {
          "output_type": "display_data",
          "data": {
            "text/plain": [
              "  0%|          | 0/53 [00:00<?, ?it/s]"
            ],
            "application/vnd.jupyter.widget-view+json": {
              "version_major": 2,
              "version_minor": 0,
              "model_id": "9c45998df5ee475a8eb54cf90634682f"
            }
          },
          "metadata": {}
        },
        {
          "output_type": "stream",
          "name": "stdout",
          "text": [
            "Epoch[2/30]: train_loss: 0.1099972064, val_loss:0.1094960915\n",
            "======== Epoch 4 ========\n"
          ]
        },
        {
          "output_type": "display_data",
          "data": {
            "text/plain": [
              "0it [00:00, ?it/s]"
            ],
            "application/vnd.jupyter.widget-view+json": {
              "version_major": 2,
              "version_minor": 0,
              "model_id": "76258ed86a7e43638beb19437b413f55"
            }
          },
          "metadata": {}
        },
        {
          "output_type": "display_data",
          "data": {
            "text/plain": [
              "  0%|          | 0/53 [00:00<?, ?it/s]"
            ],
            "application/vnd.jupyter.widget-view+json": {
              "version_major": 2,
              "version_minor": 0,
              "model_id": "0bea608bbd1042b987481cd5c44946ce"
            }
          },
          "metadata": {}
        },
        {
          "output_type": "stream",
          "name": "stdout",
          "text": [
            "Epoch[3/30]: train_loss: 0.1061674618, val_loss:0.1060918726\n",
            "======== Epoch 5 ========\n"
          ]
        },
        {
          "output_type": "display_data",
          "data": {
            "text/plain": [
              "0it [00:00, ?it/s]"
            ],
            "application/vnd.jupyter.widget-view+json": {
              "version_major": 2,
              "version_minor": 0,
              "model_id": "4cf721ed8e0b4903b4089a3e3a6db1ca"
            }
          },
          "metadata": {}
        },
        {
          "output_type": "display_data",
          "data": {
            "text/plain": [
              "  0%|          | 0/53 [00:00<?, ?it/s]"
            ],
            "application/vnd.jupyter.widget-view+json": {
              "version_major": 2,
              "version_minor": 0,
              "model_id": "9637c699a31248efab2866204a6ff47f"
            }
          },
          "metadata": {}
        },
        {
          "output_type": "stream",
          "name": "stdout",
          "text": [
            "Epoch[4/30]: train_loss: 0.1033574283, val_loss:0.1038693613\n",
            "======== Epoch 6 ========\n"
          ]
        },
        {
          "output_type": "display_data",
          "data": {
            "text/plain": [
              "0it [00:00, ?it/s]"
            ],
            "application/vnd.jupyter.widget-view+json": {
              "version_major": 2,
              "version_minor": 0,
              "model_id": "b0530f3288744079907723ce1c227f00"
            }
          },
          "metadata": {}
        },
        {
          "output_type": "display_data",
          "data": {
            "text/plain": [
              "  0%|          | 0/53 [00:00<?, ?it/s]"
            ],
            "application/vnd.jupyter.widget-view+json": {
              "version_major": 2,
              "version_minor": 0,
              "model_id": "2c015da1a74a4b308ce686cfc91e52a5"
            }
          },
          "metadata": {}
        },
        {
          "output_type": "stream",
          "name": "stdout",
          "text": [
            "Epoch[5/30]: train_loss: 0.1010441753, val_loss:0.0998689272\n",
            "======== Epoch 7 ========\n"
          ]
        },
        {
          "output_type": "display_data",
          "data": {
            "text/plain": [
              "0it [00:00, ?it/s]"
            ],
            "application/vnd.jupyter.widget-view+json": {
              "version_major": 2,
              "version_minor": 0,
              "model_id": "0ebb71ab959e4babb0b9861766defc73"
            }
          },
          "metadata": {}
        },
        {
          "output_type": "display_data",
          "data": {
            "text/plain": [
              "  0%|          | 0/53 [00:00<?, ?it/s]"
            ],
            "application/vnd.jupyter.widget-view+json": {
              "version_major": 2,
              "version_minor": 0,
              "model_id": "e3020434458240829a4cb1e1f24f9422"
            }
          },
          "metadata": {}
        },
        {
          "output_type": "stream",
          "name": "stdout",
          "text": [
            "Epoch[6/30]: train_loss: 0.0990255190, val_loss:0.1011085600\n",
            "======== Epoch 8 ========\n"
          ]
        },
        {
          "output_type": "display_data",
          "data": {
            "text/plain": [
              "0it [00:00, ?it/s]"
            ],
            "application/vnd.jupyter.widget-view+json": {
              "version_major": 2,
              "version_minor": 0,
              "model_id": "4339d3254e1941dd8131f3611a90854b"
            }
          },
          "metadata": {}
        },
        {
          "output_type": "display_data",
          "data": {
            "text/plain": [
              "  0%|          | 0/53 [00:00<?, ?it/s]"
            ],
            "application/vnd.jupyter.widget-view+json": {
              "version_major": 2,
              "version_minor": 0,
              "model_id": "8427fb71125e4b499a6d0376d4c2dce2"
            }
          },
          "metadata": {}
        },
        {
          "output_type": "stream",
          "name": "stdout",
          "text": [
            "Epoch[7/30]: train_loss: 0.0964804500, val_loss:0.0930847205\n",
            "======== Epoch 9 ========\n"
          ]
        },
        {
          "output_type": "display_data",
          "data": {
            "text/plain": [
              "0it [00:00, ?it/s]"
            ],
            "application/vnd.jupyter.widget-view+json": {
              "version_major": 2,
              "version_minor": 0,
              "model_id": "5dd2aeac416a48a9b1bb002ed58b6969"
            }
          },
          "metadata": {}
        },
        {
          "output_type": "display_data",
          "data": {
            "text/plain": [
              "  0%|          | 0/53 [00:00<?, ?it/s]"
            ],
            "application/vnd.jupyter.widget-view+json": {
              "version_major": 2,
              "version_minor": 0,
              "model_id": "832363c2c3b0476f9dd287e6244876e9"
            }
          },
          "metadata": {}
        },
        {
          "output_type": "stream",
          "name": "stdout",
          "text": [
            "Epoch[8/30]: train_loss: 0.0967188901, val_loss:0.1016970751\n",
            "======== Epoch 10 ========\n"
          ]
        },
        {
          "output_type": "display_data",
          "data": {
            "text/plain": [
              "0it [00:00, ?it/s]"
            ],
            "application/vnd.jupyter.widget-view+json": {
              "version_major": 2,
              "version_minor": 0,
              "model_id": "fb4cf66bb22047c0adc71ad9b29ae0bb"
            }
          },
          "metadata": {}
        },
        {
          "output_type": "display_data",
          "data": {
            "text/plain": [
              "  0%|          | 0/53 [00:00<?, ?it/s]"
            ],
            "application/vnd.jupyter.widget-view+json": {
              "version_major": 2,
              "version_minor": 0,
              "model_id": "976ba0201aef4e8abdcb0d91ac3789c2"
            }
          },
          "metadata": {}
        },
        {
          "output_type": "stream",
          "name": "stdout",
          "text": [
            "Epoch[9/30]: train_loss: 0.0949817279, val_loss:0.0987045411\n",
            "======== Epoch 11 ========\n"
          ]
        },
        {
          "output_type": "display_data",
          "data": {
            "text/plain": [
              "0it [00:00, ?it/s]"
            ],
            "application/vnd.jupyter.widget-view+json": {
              "version_major": 2,
              "version_minor": 0,
              "model_id": "b0475d735c3f4d36bb8fae2a09d29215"
            }
          },
          "metadata": {}
        },
        {
          "output_type": "display_data",
          "data": {
            "text/plain": [
              "  0%|          | 0/53 [00:00<?, ?it/s]"
            ],
            "application/vnd.jupyter.widget-view+json": {
              "version_major": 2,
              "version_minor": 0,
              "model_id": "e10dc9bb6c984084b2af0b59a1b9fff4"
            }
          },
          "metadata": {}
        },
        {
          "output_type": "stream",
          "name": "stdout",
          "text": [
            "Epoch[10/30]: train_loss: 0.0941465413, val_loss:0.0883299050\n",
            "======== Epoch 12 ========\n"
          ]
        },
        {
          "output_type": "display_data",
          "data": {
            "text/plain": [
              "0it [00:00, ?it/s]"
            ],
            "application/vnd.jupyter.widget-view+json": {
              "version_major": 2,
              "version_minor": 0,
              "model_id": "41d3a0af1cd14cf3a00fce09bfda6f69"
            }
          },
          "metadata": {}
        },
        {
          "output_type": "display_data",
          "data": {
            "text/plain": [
              "  0%|          | 0/53 [00:00<?, ?it/s]"
            ],
            "application/vnd.jupyter.widget-view+json": {
              "version_major": 2,
              "version_minor": 0,
              "model_id": "35347f95985147048d825ef2cc24b866"
            }
          },
          "metadata": {}
        },
        {
          "output_type": "stream",
          "name": "stdout",
          "text": [
            "Epoch[11/30]: train_loss: 0.0942792857, val_loss:0.0947961092\n",
            "======== Epoch 13 ========\n"
          ]
        },
        {
          "output_type": "display_data",
          "data": {
            "text/plain": [
              "0it [00:00, ?it/s]"
            ],
            "application/vnd.jupyter.widget-view+json": {
              "version_major": 2,
              "version_minor": 0,
              "model_id": "a296c5d921b3498c821a80c8cd64f75a"
            }
          },
          "metadata": {}
        },
        {
          "output_type": "display_data",
          "data": {
            "text/plain": [
              "  0%|          | 0/53 [00:00<?, ?it/s]"
            ],
            "application/vnd.jupyter.widget-view+json": {
              "version_major": 2,
              "version_minor": 0,
              "model_id": "d698f228ae2d4b6992810000f06d3043"
            }
          },
          "metadata": {}
        },
        {
          "output_type": "stream",
          "name": "stdout",
          "text": [
            "Epoch[12/30]: train_loss: 0.0923908126, val_loss:0.0891271913\n",
            "======== Epoch 14 ========\n"
          ]
        },
        {
          "output_type": "display_data",
          "data": {
            "text/plain": [
              "0it [00:00, ?it/s]"
            ],
            "application/vnd.jupyter.widget-view+json": {
              "version_major": 2,
              "version_minor": 0,
              "model_id": "f8366d3010a947fc918dd92fc4fbbb5e"
            }
          },
          "metadata": {}
        },
        {
          "output_type": "display_data",
          "data": {
            "text/plain": [
              "  0%|          | 0/53 [00:00<?, ?it/s]"
            ],
            "application/vnd.jupyter.widget-view+json": {
              "version_major": 2,
              "version_minor": 0,
              "model_id": "43269ebaf7e144c68c130999281c9e19"
            }
          },
          "metadata": {}
        },
        {
          "output_type": "stream",
          "name": "stdout",
          "text": [
            "Epoch[13/30]: train_loss: 0.0901020499, val_loss:0.0897107741\n",
            "======== Epoch 15 ========\n"
          ]
        },
        {
          "output_type": "display_data",
          "data": {
            "text/plain": [
              "0it [00:00, ?it/s]"
            ],
            "application/vnd.jupyter.widget-view+json": {
              "version_major": 2,
              "version_minor": 0,
              "model_id": "d1fc51ccc4bd4c0d84aa995d03de6ad2"
            }
          },
          "metadata": {}
        },
        {
          "output_type": "display_data",
          "data": {
            "text/plain": [
              "  0%|          | 0/53 [00:00<?, ?it/s]"
            ],
            "application/vnd.jupyter.widget-view+json": {
              "version_major": 2,
              "version_minor": 0,
              "model_id": "090473f896f242a193e335f72c639618"
            }
          },
          "metadata": {}
        },
        {
          "output_type": "stream",
          "name": "stdout",
          "text": [
            "Epoch[14/30]: train_loss: 0.0905776504, val_loss:0.0867000829\n",
            "======== Epoch 16 ========\n"
          ]
        },
        {
          "output_type": "display_data",
          "data": {
            "text/plain": [
              "0it [00:00, ?it/s]"
            ],
            "application/vnd.jupyter.widget-view+json": {
              "version_major": 2,
              "version_minor": 0,
              "model_id": "6f1ed160d79b4467897c3e98f8828cab"
            }
          },
          "metadata": {}
        },
        {
          "output_type": "display_data",
          "data": {
            "text/plain": [
              "  0%|          | 0/53 [00:00<?, ?it/s]"
            ],
            "application/vnd.jupyter.widget-view+json": {
              "version_major": 2,
              "version_minor": 0,
              "model_id": "0d6460279d2b4351a5a0a18a2319c7bf"
            }
          },
          "metadata": {}
        },
        {
          "output_type": "stream",
          "name": "stdout",
          "text": [
            "Epoch[15/30]: train_loss: 0.0905538257, val_loss:0.0887271368\n",
            "======== Epoch 17 ========\n"
          ]
        },
        {
          "output_type": "display_data",
          "data": {
            "text/plain": [
              "0it [00:00, ?it/s]"
            ],
            "application/vnd.jupyter.widget-view+json": {
              "version_major": 2,
              "version_minor": 0,
              "model_id": "2c8564c6f4a24ef5baa006f97ec95791"
            }
          },
          "metadata": {}
        },
        {
          "output_type": "display_data",
          "data": {
            "text/plain": [
              "  0%|          | 0/53 [00:00<?, ?it/s]"
            ],
            "application/vnd.jupyter.widget-view+json": {
              "version_major": 2,
              "version_minor": 0,
              "model_id": "ac0d3e1ce7b44d7e90ae3e15a5d08c48"
            }
          },
          "metadata": {}
        },
        {
          "output_type": "stream",
          "name": "stdout",
          "text": [
            "Epoch[16/30]: train_loss: 0.0889824625, val_loss:0.0894962500\n",
            "======== Epoch 18 ========\n"
          ]
        },
        {
          "output_type": "display_data",
          "data": {
            "text/plain": [
              "0it [00:00, ?it/s]"
            ],
            "application/vnd.jupyter.widget-view+json": {
              "version_major": 2,
              "version_minor": 0,
              "model_id": "8ab12be18be04732bf3c135bcb4361fc"
            }
          },
          "metadata": {}
        },
        {
          "output_type": "display_data",
          "data": {
            "text/plain": [
              "  0%|          | 0/53 [00:00<?, ?it/s]"
            ],
            "application/vnd.jupyter.widget-view+json": {
              "version_major": 2,
              "version_minor": 0,
              "model_id": "6519a51731914834b67b99dc1ee8e3b2"
            }
          },
          "metadata": {}
        },
        {
          "output_type": "stream",
          "name": "stdout",
          "text": [
            "Epoch[17/30]: train_loss: 0.0905504797, val_loss:0.0897289270\n",
            "======== Epoch 19 ========\n"
          ]
        },
        {
          "output_type": "display_data",
          "data": {
            "text/plain": [
              "0it [00:00, ?it/s]"
            ],
            "application/vnd.jupyter.widget-view+json": {
              "version_major": 2,
              "version_minor": 0,
              "model_id": "72e9047f97ef47619c6a318d7755d849"
            }
          },
          "metadata": {}
        },
        {
          "output_type": "display_data",
          "data": {
            "text/plain": [
              "  0%|          | 0/53 [00:00<?, ?it/s]"
            ],
            "application/vnd.jupyter.widget-view+json": {
              "version_major": 2,
              "version_minor": 0,
              "model_id": "d44487eca41e482b9549eeb0b6dafb1e"
            }
          },
          "metadata": {}
        },
        {
          "output_type": "stream",
          "name": "stdout",
          "text": [
            "Epoch[18/30]: train_loss: 0.0897158181, val_loss:0.0921696963\n",
            "======== Epoch 20 ========\n"
          ]
        },
        {
          "output_type": "display_data",
          "data": {
            "text/plain": [
              "0it [00:00, ?it/s]"
            ],
            "application/vnd.jupyter.widget-view+json": {
              "version_major": 2,
              "version_minor": 0,
              "model_id": "218feb91777a475caa9d984810838260"
            }
          },
          "metadata": {}
        },
        {
          "output_type": "display_data",
          "data": {
            "text/plain": [
              "  0%|          | 0/53 [00:00<?, ?it/s]"
            ],
            "application/vnd.jupyter.widget-view+json": {
              "version_major": 2,
              "version_minor": 0,
              "model_id": "6338d626139e4490842ec8654dd256e2"
            }
          },
          "metadata": {}
        },
        {
          "output_type": "stream",
          "name": "stdout",
          "text": [
            "Epoch[19/30]: train_loss: 0.0879813855, val_loss:0.0891527397\n",
            "======== Epoch 21 ========\n"
          ]
        },
        {
          "output_type": "display_data",
          "data": {
            "text/plain": [
              "0it [00:00, ?it/s]"
            ],
            "application/vnd.jupyter.widget-view+json": {
              "version_major": 2,
              "version_minor": 0,
              "model_id": "2aa50b0ec9a143749cc3ee7462615d24"
            }
          },
          "metadata": {}
        },
        {
          "output_type": "display_data",
          "data": {
            "text/plain": [
              "  0%|          | 0/53 [00:00<?, ?it/s]"
            ],
            "application/vnd.jupyter.widget-view+json": {
              "version_major": 2,
              "version_minor": 0,
              "model_id": "2fb836ae518e451681fe65fe129bfa31"
            }
          },
          "metadata": {}
        },
        {
          "output_type": "stream",
          "name": "stdout",
          "text": [
            "Epoch[20/30]: train_loss: 0.0879857904, val_loss:0.0895667624\n",
            "======== Epoch 22 ========\n"
          ]
        },
        {
          "output_type": "display_data",
          "data": {
            "text/plain": [
              "0it [00:00, ?it/s]"
            ],
            "application/vnd.jupyter.widget-view+json": {
              "version_major": 2,
              "version_minor": 0,
              "model_id": "62a55258e7544d7389c1dadb4f5b6d0b"
            }
          },
          "metadata": {}
        },
        {
          "output_type": "display_data",
          "data": {
            "text/plain": [
              "  0%|          | 0/53 [00:00<?, ?it/s]"
            ],
            "application/vnd.jupyter.widget-view+json": {
              "version_major": 2,
              "version_minor": 0,
              "model_id": "04c3d67f1dd04dc384e1945b730c23fc"
            }
          },
          "metadata": {}
        },
        {
          "output_type": "stream",
          "name": "stdout",
          "text": [
            "Epoch[21/30]: train_loss: 0.0877922621, val_loss:0.0848890998\n",
            "======== Epoch 23 ========\n"
          ]
        },
        {
          "output_type": "display_data",
          "data": {
            "text/plain": [
              "0it [00:00, ?it/s]"
            ],
            "application/vnd.jupyter.widget-view+json": {
              "version_major": 2,
              "version_minor": 0,
              "model_id": "e9521c9b94f74295a55d995ece208f15"
            }
          },
          "metadata": {}
        },
        {
          "output_type": "display_data",
          "data": {
            "text/plain": [
              "  0%|          | 0/53 [00:00<?, ?it/s]"
            ],
            "application/vnd.jupyter.widget-view+json": {
              "version_major": 2,
              "version_minor": 0,
              "model_id": "b995fb7bfa914d2a969cb7ddf5a84168"
            }
          },
          "metadata": {}
        },
        {
          "output_type": "stream",
          "name": "stdout",
          "text": [
            "Epoch[22/30]: train_loss: 0.0861173721, val_loss:0.0869002889\n",
            "======== Epoch 24 ========\n"
          ]
        },
        {
          "output_type": "display_data",
          "data": {
            "text/plain": [
              "0it [00:00, ?it/s]"
            ],
            "application/vnd.jupyter.widget-view+json": {
              "version_major": 2,
              "version_minor": 0,
              "model_id": "6277769d4c4a4c69beeafa6755eb5894"
            }
          },
          "metadata": {}
        },
        {
          "output_type": "display_data",
          "data": {
            "text/plain": [
              "  0%|          | 0/53 [00:00<?, ?it/s]"
            ],
            "application/vnd.jupyter.widget-view+json": {
              "version_major": 2,
              "version_minor": 0,
              "model_id": "f8c09c329b284d5caa40b0f5fbd6bc0b"
            }
          },
          "metadata": {}
        },
        {
          "output_type": "stream",
          "name": "stdout",
          "text": [
            "Epoch[23/30]: train_loss: 0.0871789245, val_loss:0.0830645485\n",
            "======== Epoch 25 ========\n"
          ]
        },
        {
          "output_type": "display_data",
          "data": {
            "text/plain": [
              "0it [00:00, ?it/s]"
            ],
            "application/vnd.jupyter.widget-view+json": {
              "version_major": 2,
              "version_minor": 0,
              "model_id": "a8877726debc4cfeaae1a71d123643c2"
            }
          },
          "metadata": {}
        },
        {
          "output_type": "display_data",
          "data": {
            "text/plain": [
              "  0%|          | 0/53 [00:00<?, ?it/s]"
            ],
            "application/vnd.jupyter.widget-view+json": {
              "version_major": 2,
              "version_minor": 0,
              "model_id": "503b31a9d0da446aa939cc710de8c55d"
            }
          },
          "metadata": {}
        },
        {
          "output_type": "stream",
          "name": "stdout",
          "text": [
            "Epoch[24/30]: train_loss: 0.0863016999, val_loss:0.0864532948\n",
            "======== Epoch 26 ========\n"
          ]
        },
        {
          "output_type": "display_data",
          "data": {
            "text/plain": [
              "0it [00:00, ?it/s]"
            ],
            "application/vnd.jupyter.widget-view+json": {
              "version_major": 2,
              "version_minor": 0,
              "model_id": "81c9c79484d2495a986f7e67d9477e57"
            }
          },
          "metadata": {}
        },
        {
          "output_type": "display_data",
          "data": {
            "text/plain": [
              "  0%|          | 0/53 [00:00<?, ?it/s]"
            ],
            "application/vnd.jupyter.widget-view+json": {
              "version_major": 2,
              "version_minor": 0,
              "model_id": "210494990b0a428da0a256183c702351"
            }
          },
          "metadata": {}
        },
        {
          "output_type": "stream",
          "name": "stdout",
          "text": [
            "Epoch[25/30]: train_loss: 0.0841270044, val_loss:0.0866921508\n",
            "======== Epoch 27 ========\n"
          ]
        },
        {
          "output_type": "display_data",
          "data": {
            "text/plain": [
              "0it [00:00, ?it/s]"
            ],
            "application/vnd.jupyter.widget-view+json": {
              "version_major": 2,
              "version_minor": 0,
              "model_id": "8f28e988a8be40d78d967486ef6be967"
            }
          },
          "metadata": {}
        },
        {
          "output_type": "display_data",
          "data": {
            "text/plain": [
              "  0%|          | 0/53 [00:00<?, ?it/s]"
            ],
            "application/vnd.jupyter.widget-view+json": {
              "version_major": 2,
              "version_minor": 0,
              "model_id": "78ba5bc9f2a94db693270717bd91b1d1"
            }
          },
          "metadata": {}
        },
        {
          "output_type": "stream",
          "name": "stdout",
          "text": [
            "Epoch[26/30]: train_loss: 0.0855763067, val_loss:0.0830957485\n",
            "======== Epoch 28 ========\n"
          ]
        },
        {
          "output_type": "display_data",
          "data": {
            "text/plain": [
              "0it [00:00, ?it/s]"
            ],
            "application/vnd.jupyter.widget-view+json": {
              "version_major": 2,
              "version_minor": 0,
              "model_id": "b74448b2ba4a4e81b1e543243866e454"
            }
          },
          "metadata": {}
        },
        {
          "output_type": "display_data",
          "data": {
            "text/plain": [
              "  0%|          | 0/53 [00:00<?, ?it/s]"
            ],
            "application/vnd.jupyter.widget-view+json": {
              "version_major": 2,
              "version_minor": 0,
              "model_id": "586f910ac8cf4ee581b6e4348a8c934e"
            }
          },
          "metadata": {}
        },
        {
          "output_type": "stream",
          "name": "stdout",
          "text": [
            "Epoch[27/30]: train_loss: 0.0860814358, val_loss:0.0847714812\n",
            "======== Epoch 29 ========\n"
          ]
        },
        {
          "output_type": "display_data",
          "data": {
            "text/plain": [
              "0it [00:00, ?it/s]"
            ],
            "application/vnd.jupyter.widget-view+json": {
              "version_major": 2,
              "version_minor": 0,
              "model_id": "30d84635eda548f3b5096dcb351d9cb8"
            }
          },
          "metadata": {}
        },
        {
          "output_type": "display_data",
          "data": {
            "text/plain": [
              "  0%|          | 0/53 [00:00<?, ?it/s]"
            ],
            "application/vnd.jupyter.widget-view+json": {
              "version_major": 2,
              "version_minor": 0,
              "model_id": "53ab790213604853b6ca0dbd1ce3cf64"
            }
          },
          "metadata": {}
        },
        {
          "output_type": "stream",
          "name": "stdout",
          "text": [
            "Epoch[28/30]: train_loss: 0.0848659504, val_loss:0.0817291627\n",
            "======== Epoch 30 ========\n"
          ]
        },
        {
          "output_type": "display_data",
          "data": {
            "text/plain": [
              "0it [00:00, ?it/s]"
            ],
            "application/vnd.jupyter.widget-view+json": {
              "version_major": 2,
              "version_minor": 0,
              "model_id": "09d9e55f1fb44d92a94313bb3d992ebd"
            }
          },
          "metadata": {}
        },
        {
          "output_type": "display_data",
          "data": {
            "text/plain": [
              "  0%|          | 0/53 [00:00<?, ?it/s]"
            ],
            "application/vnd.jupyter.widget-view+json": {
              "version_major": 2,
              "version_minor": 0,
              "model_id": "4e54590307e4415795fdd32a5406bc64"
            }
          },
          "metadata": {}
        },
        {
          "output_type": "stream",
          "name": "stdout",
          "text": [
            "Epoch[29/30]: train_loss: 0.0833238756, val_loss:0.0857878219\n"
          ]
        }
      ]
    },
    {
      "cell_type": "code",
      "source": [
        "def batch_xyxy2cxcy(bboxes):\n",
        "  batch_size = bboxes.size(0)\n",
        "  bbox_cxcy = torch.empty((batch_size,2), dtype=torch.float32)\n",
        "  bbox_cxcy[:,0] = (bboxes[:,0] + bboxes[:,2])/2.\n",
        "  bbox_cxcy[:,1] = (bboxes[:,1] + bboxes[:,3])/2.\n",
        "  return bbox_cxcy\n"
      ],
      "metadata": {
        "id": "bTnS_-Vpx9_5"
      },
      "execution_count": null,
      "outputs": []
    },
    {
      "cell_type": "code",
      "source": [
        "model.eval()\n",
        "with torch.no_grad():\n",
        "  pred = model(torch.as_tensor(x_test).cuda())\n",
        "  y_true = torch.as_tensor(y_test).cuda()\n",
        "  loss = nn.MSELoss()\n",
        "  print('mseLoss = {}'.format(loss(batch_xyxy2cxcy(pred), batch_xyxy2cxcy(y_true))))\n",
        "  print('IOU = {}'.format(generalized_iou(y_true, pred)))"
      ],
      "metadata": {
        "colab": {
          "base_uri": "https://localhost:8080/"
        },
        "id": "9EmRqO5OoxSS",
        "outputId": "6bddf858-fe94-4da0-8025-a5dbb5d88c69"
      },
      "execution_count": null,
      "outputs": [
        {
          "output_type": "stream",
          "name": "stdout",
          "text": [
            "mseLoss = 8.240666829806287e-06\n",
            "IOU = 0.9142970442771912\n"
          ]
        },
        {
          "output_type": "stream",
          "name": "stderr",
          "text": [
            "/usr/local/lib/python3.7/dist-packages/torch/nn/functional.py:651: UserWarning: Note that order of the arguments: ceil_mode and return_indices will changeto match the args list in nn.MaxPool1d in a future release.\n",
            "  warnings.warn(\"Note that order of the arguments: ceil_mode and return_indices will change\"\n"
          ]
        }
      ]
    },
    {
      "cell_type": "markdown",
      "metadata": {
        "id": "1GYEuPAJyWhX"
      },
      "source": [
        "#Karmal Filter\n"
      ]
    },
    {
      "cell_type": "code",
      "execution_count": null,
      "metadata": {
        "id": "_p1IbXQ13Zkn",
        "colab": {
          "base_uri": "https://localhost:8080/"
        },
        "outputId": "9a5aec96-f2c7-4ad7-9025-b3748ff4e4e9"
      },
      "outputs": [
        {
          "output_type": "stream",
          "name": "stdout",
          "text": [
            "Looking in indexes: https://pypi.org/simple, https://us-python.pkg.dev/colab-wheels/public/simple/\n",
            "Collecting filterpy\n",
            "  Downloading filterpy-1.4.5.zip (177 kB)\n",
            "\u001b[K     |████████████████████████████████| 177 kB 31.2 MB/s \n",
            "\u001b[?25hRequirement already satisfied: numpy in /usr/local/lib/python3.7/dist-packages (from filterpy) (1.21.6)\n",
            "Requirement already satisfied: scipy in /usr/local/lib/python3.7/dist-packages (from filterpy) (1.4.1)\n",
            "Requirement already satisfied: matplotlib in /usr/local/lib/python3.7/dist-packages (from filterpy) (3.2.2)\n",
            "Requirement already satisfied: kiwisolver>=1.0.1 in /usr/local/lib/python3.7/dist-packages (from matplotlib->filterpy) (1.4.3)\n",
            "Requirement already satisfied: python-dateutil>=2.1 in /usr/local/lib/python3.7/dist-packages (from matplotlib->filterpy) (2.8.2)\n",
            "Requirement already satisfied: cycler>=0.10 in /usr/local/lib/python3.7/dist-packages (from matplotlib->filterpy) (0.11.0)\n",
            "Requirement already satisfied: pyparsing!=2.0.4,!=2.1.2,!=2.1.6,>=2.0.1 in /usr/local/lib/python3.7/dist-packages (from matplotlib->filterpy) (3.0.9)\n",
            "Requirement already satisfied: typing-extensions in /usr/local/lib/python3.7/dist-packages (from kiwisolver>=1.0.1->matplotlib->filterpy) (4.1.1)\n",
            "Requirement already satisfied: six>=1.5 in /usr/local/lib/python3.7/dist-packages (from python-dateutil>=2.1->matplotlib->filterpy) (1.15.0)\n",
            "Building wheels for collected packages: filterpy\n",
            "  Building wheel for filterpy (setup.py) ... \u001b[?25l\u001b[?25hdone\n",
            "  Created wheel for filterpy: filename=filterpy-1.4.5-py3-none-any.whl size=110474 sha256=239d0580a0b3214d1b6f92089d60440ee2cd80dba22b8e94469b28f25d482eec\n",
            "  Stored in directory: /root/.cache/pip/wheels/ce/e0/ee/a2b3c5caab3418c1ccd8c4de573d4cbe13315d7e8b0a55fbc2\n",
            "Successfully built filterpy\n",
            "Installing collected packages: filterpy\n",
            "Successfully installed filterpy-1.4.5\n"
          ]
        }
      ],
      "source": [
        "!pip install filterpy"
      ]
    },
    {
      "cell_type": "code",
      "execution_count": null,
      "metadata": {
        "id": "3O4e4tfzyaOe"
      },
      "outputs": [],
      "source": [
        "from filterpy.kalman import KalmanFilter\n",
        "def convert_bbox_to_z(bbox):\n",
        "  \"\"\"\n",
        "  Takes a bounding box in the form [x1,y1,x2,y2] and returns z in the form\n",
        "    [x,y,s,r] where x,y is the centre of the box and s is the scale/area and r is\n",
        "    the aspect ratio\n",
        "  \"\"\"\n",
        "  w = bbox[2] - bbox[0]\n",
        "  h = bbox[3] - bbox[1]\n",
        "  x = bbox[0] + w/2.\n",
        "  y = bbox[1] + h/2.\n",
        "  s = w * h    #scale is just area\n",
        "  r = w / float(h)\n",
        "  return np.array([x, y, s, r]).reshape((4, 1))\n",
        "\n",
        "\n",
        "def convert_x_to_bbox(x,score=None):\n",
        "  \"\"\"\n",
        "  Takes a bounding box in the centre form [x,y,s,r] and returns it in the form\n",
        "    [x1,y1,x2,y2] where x1,y1 is the top left and x2,y2 is the bottom right\n",
        "  \"\"\"\n",
        "  w = np.sqrt(x[2] * x[3])\n",
        "  h = x[2] / w\n",
        "  if(score==None):\n",
        "    return np.clip(np.array([x[0]-w/2.,x[1]-h/2.,x[0]+w/2.,x[1]+h/2.]), 0, None).reshape((1,4))\n",
        "  else:\n",
        "    return np.array([x[0]-w/2.,x[1]-h/2.,x[0]+w/2.,x[1]+h/2.,score]).reshape((1,5))\n",
        "\n",
        "class KalmanBoxTracker(object):\n",
        "  \"\"\"\n",
        "  This class represents the internal state of individual tracked objects observed as bbox.\n",
        "  \"\"\"\n",
        "  count = 0\n",
        "  def __init__(self,bbox):\n",
        "    \"\"\"\n",
        "    Initialises a tracker using initial bounding box.\n",
        "    \"\"\"\n",
        "    #define constant velocity model\n",
        "    self.kf = KalmanFilter(dim_x=7, dim_z=4) \n",
        "    self.kf.F = np.array([[1,0,0,0,1,0,0],[0,1,0,0,0,1,0],[0,0,1,0,0,0,1],[0,0,0,1,0,0,0],  [0,0,0,0,1,0,0],[0,0,0,0,0,1,0],[0,0,0,0,0,0,1]])\n",
        "    self.kf.H = np.array([[1,0,0,0,0,0,0],[0,1,0,0,0,0,0],[0,0,1,0,0,0,0],[0,0,0,1,0,0,0]])\n",
        "\n",
        "    self.kf.R[2:,2:] *= 10.\n",
        "    self.kf.P[4:,4:] *= 1000. #give high uncertainty to the unobservable initial velocities\n",
        "    self.kf.P *= 10.\n",
        "    self.kf.Q[-1,-1] *= 0.01\n",
        "    self.kf.Q[4:,4:] *= 0.01\n",
        "\n",
        "    self.kf.x[:4] = convert_bbox_to_z(bbox)\n",
        "    self.time_since_update = 0\n",
        "    self.id = KalmanBoxTracker.count\n",
        "    KalmanBoxTracker.count += 1\n",
        "    self.history = []\n",
        "    self.hits = 0\n",
        "    self.hit_streak = 0\n",
        "    self.age = 0\n",
        "\n",
        "  def update(self,bbox):\n",
        "    \"\"\"\n",
        "    Updates the state vector with observed bbox.\n",
        "    \"\"\"\n",
        "    self.time_since_update = 0\n",
        "    self.history = []\n",
        "    self.hits += 1\n",
        "    self.hit_streak += 1\n",
        "    self.kf.update(convert_bbox_to_z(bbox))\n",
        "\n",
        "  def predict(self):\n",
        "    \"\"\"\n",
        "    Advances the state vector and returns the predicted bounding box estimate.\n",
        "    \"\"\"\n",
        "    if((self.kf.x[6]+self.kf.x[2])<=0):\n",
        "      self.kf.x[6] *= 0.0\n",
        "    self.kf.predict()\n",
        "    self.age += 1\n",
        "    if(self.time_since_update>0):\n",
        "      self.hit_streak = 0\n",
        "    self.time_since_update += 1\n",
        "    self.history.append(convert_x_to_bbox(self.kf.x))\n",
        "    return self.history[-1]\n",
        "\n",
        "  def get_state(self):\n",
        "    \"\"\"\n",
        "    Returns the current bounding box estimate.\n",
        "    \"\"\"\n",
        "    return convert_x_to_bbox(self.kf.x)"
      ]
    },
    {
      "cell_type": "code",
      "execution_count": null,
      "metadata": {
        "id": "XznzpnSL1ZUt"
      },
      "outputs": [],
      "source": [
        "# !pip install tensorflow_addons\n",
        "# import tensorflow_addons as tfa\n",
        "# metrics = tfa.losses.GIoULoss(mode = 'iou')"
      ]
    },
    {
      "cell_type": "code",
      "source": [
        "import numpy as np\n",
        "import scipy.linalg\n",
        "\"\"\"\n",
        "Table for the 0.95 quantile of the chi-square distribution with N degrees of\n",
        "freedom (contains values for N=1, ..., 9). Taken from MATLAB/Octave's chi2inv\n",
        "function and used as Mahalanobis gating threshold.\n",
        "\"\"\"\n",
        "chi2inv95 = {\n",
        "    1: 3.8415,\n",
        "    2: 5.9915,\n",
        "    3: 7.8147,\n",
        "    4: 9.4877,\n",
        "    5: 11.070,\n",
        "    6: 12.592,\n",
        "    7: 14.067,\n",
        "    8: 15.507,\n",
        "    9: 16.919}\n",
        "\n",
        "\n",
        "class Kalman_Filter(object):\n",
        "    \"\"\"\n",
        "    A simple Kalman filter for tracking bounding boxes in image space.\n",
        "    The 8-dimensional state space\n",
        "        x, y, a, h, vx, vy, va, vh\n",
        "    contains the bounding box center position (x, y), aspect ratio a, height h,\n",
        "    and their respective velocities.\n",
        "    Object motion follows a constant velocity model. The bounding box location\n",
        "    (x, y, a, h) is taken as direct observation of the state space (linear\n",
        "    observation model).\n",
        "    \"\"\"\n",
        "\n",
        "    def __init__(self):\n",
        "        ndim, dt = 4, 1.\n",
        "\n",
        "        # Create Kalman filter model matrices.\n",
        "        self._motion_mat = np.eye(2 * ndim, 2 * ndim)\n",
        "        for i in range(ndim):\n",
        "            self._motion_mat[i, ndim + i] = dt\n",
        "        self._update_mat = np.eye(ndim, 2 * ndim)\n",
        "\n",
        "        # Motion and observation uncertainty are chosen relative to the current\n",
        "        # state estimate. These weights control the amount of uncertainty in\n",
        "        # the model. This is a bit hacky.\n",
        "        self._std_weight_position = 1. / 20\n",
        "        self._std_weight_velocity = 1. / 160\n",
        "\n",
        "    def initiate(self, measurement):\n",
        "        \"\"\"Create track from unassociated measurement.\n",
        "        Parameters\n",
        "        ----------\n",
        "        measurement : ndarray\n",
        "            Bounding box coordinates (x, y, a, h) with center position (x, y),\n",
        "            aspect ratio a, and height h.\n",
        "        Returns\n",
        "        -------\n",
        "        (ndarray, ndarray)\n",
        "            Returns the mean vector (8 dimensional) and covariance matrix (8x8\n",
        "            dimensional) of the new track. Unobserved velocities are initialized\n",
        "            to 0 mean.\n",
        "        \"\"\"\n",
        "        mean_pos = measurement\n",
        "        mean_vel = np.zeros_like(mean_pos)\n",
        "        mean = np.r_[mean_pos, mean_vel]\n",
        "\n",
        "        std = [\n",
        "            2 * self._std_weight_position * measurement[3],\n",
        "            2 * self._std_weight_position * measurement[3],\n",
        "            1e-2,\n",
        "            2 * self._std_weight_position * measurement[3],\n",
        "            10 * self._std_weight_velocity * measurement[3],\n",
        "            10 * self._std_weight_velocity * measurement[3],\n",
        "            1e-5,\n",
        "            10 * self._std_weight_velocity * measurement[3]]\n",
        "        covariance = np.diag(np.square(std))\n",
        "        return mean, covariance\n",
        "\n",
        "    def predict(self, mean, covariance):\n",
        "        \"\"\"Run Kalman filter prediction step.\n",
        "        Parameters\n",
        "        ----------\n",
        "        mean : ndarray\n",
        "            The 8 dimensional mean vector of the object state at the previous\n",
        "            time step.\n",
        "        covariance : ndarray\n",
        "            The 8x8 dimensional covariance matrix of the object state at the\n",
        "            previous time step.\n",
        "        Returns\n",
        "        -------\n",
        "        (ndarray, ndarray)\n",
        "            Returns the mean vector and covariance matrix of the predicted\n",
        "            state. Unobserved velocities are initialized to 0 mean.\n",
        "        \"\"\"\n",
        "        std_pos = [\n",
        "            self._std_weight_position * mean[3],\n",
        "            self._std_weight_position * mean[3],\n",
        "            1e-2,\n",
        "            self._std_weight_position * mean[3]]\n",
        "        std_vel = [\n",
        "            self._std_weight_velocity * mean[3],\n",
        "            self._std_weight_velocity * mean[3],\n",
        "            1e-5,\n",
        "            self._std_weight_velocity * mean[3]]\n",
        "        motion_cov = np.diag(np.square(np.r_[std_pos, std_vel]))\n",
        "\n",
        "        mean = np.dot(self._motion_mat, mean)\n",
        "        covariance = np.linalg.multi_dot((\n",
        "            self._motion_mat, covariance, self._motion_mat.T)) + motion_cov\n",
        "\n",
        "        return mean, covariance\n",
        "\n",
        "    def project(self, mean, covariance):\n",
        "        \"\"\"Project state distribution to measurement space.\n",
        "        Parameters\n",
        "        ----------\n",
        "        mean : ndarray\n",
        "            The state's mean vector (8 dimensional array).\n",
        "        covariance : ndarray\n",
        "            The state's covariance matrix (8x8 dimensional).\n",
        "        Returns\n",
        "        -------\n",
        "        (ndarray, ndarray)\n",
        "            Returns the projected mean and covariance matrix of the given state\n",
        "            estimate.\n",
        "        \"\"\"\n",
        "        std = [\n",
        "            self._std_weight_position * mean[3],\n",
        "            self._std_weight_position * mean[3],\n",
        "            1e-1,\n",
        "            self._std_weight_position * mean[3]]\n",
        "        innovation_cov = np.diag(np.square(std))\n",
        "\n",
        "        mean = np.dot(self._update_mat, mean)\n",
        "        covariance = np.linalg.multi_dot((\n",
        "            self._update_mat, covariance, self._update_mat.T))\n",
        "        return mean, covariance + innovation_cov\n",
        "\n",
        "    def update(self, mean, covariance, measurement):\n",
        "        \"\"\"Run Kalman filter correction step.\n",
        "        Parameters\n",
        "        ----------\n",
        "        mean : ndarray\n",
        "            The predicted state's mean vector (8 dimensional).\n",
        "        covariance : ndarray\n",
        "            The state's covariance matrix (8x8 dimensional).\n",
        "        measurement : ndarray\n",
        "            The 4 dimensional measurement vector (x, y, a, h), where (x, y)\n",
        "            is the center position, a the aspect ratio, and h the height of the\n",
        "            bounding box.\n",
        "        Returns\n",
        "        -------\n",
        "        (ndarray, ndarray)\n",
        "            Returns the measurement-corrected state distribution.\n",
        "        \"\"\"\n",
        "        projected_mean, projected_cov = self.project(mean, covariance)\n",
        "\n",
        "        chol_factor, lower = scipy.linalg.cho_factor(\n",
        "            projected_cov, lower=True, check_finite=False)\n",
        "        kalman_gain = scipy.linalg.cho_solve(\n",
        "            (chol_factor, lower), np.dot(covariance, self._update_mat.T).T,\n",
        "            check_finite=False).T\n",
        "        innovation = measurement - projected_mean\n",
        "\n",
        "        new_mean = mean + np.dot(innovation, kalman_gain.T)\n",
        "        new_covariance = covariance - np.linalg.multi_dot((\n",
        "            kalman_gain, projected_cov, kalman_gain.T))\n",
        "        return new_mean, new_covariance\n",
        "\n",
        "    def gating_distance(self, mean, covariance, measurements,\n",
        "                        only_position=False):\n",
        "        \"\"\"Compute gating distance between state distribution and measurements.\n",
        "        A suitable distance threshold can be obtained from `chi2inv95`. If\n",
        "        `only_position` is False, the chi-square distribution has 4 degrees of\n",
        "        freedom, otherwise 2.\n",
        "        Parameters\n",
        "        ----------\n",
        "        mean : ndarray\n",
        "            Mean vector over the state distribution (8 dimensional).\n",
        "        covariance : ndarray\n",
        "            Covariance of the state distribution (8x8 dimensional).\n",
        "        measurements : ndarray\n",
        "            An Nx4 dimensional matrix of N measurements, each in\n",
        "            format (x, y, a, h) where (x, y) is the bounding box center\n",
        "            position, a the aspect ratio, and h the height.\n",
        "        only_position : Optional[bool]\n",
        "            If True, distance computation is done with respect to the bounding\n",
        "            box center position only.\n",
        "        Returns\n",
        "        -------\n",
        "        ndarray\n",
        "            Returns an array of length N, where the i-th element contains the\n",
        "            squared Mahalanobis distance between (mean, covariance) and\n",
        "            `measurements[i]`.\n",
        "        \"\"\"\n",
        "        mean, covariance = self.project(mean, covariance)\n",
        "        if only_position:\n",
        "            mean, covariance = mean[:2], covariance[:2, :2]\n",
        "            measurements = measurements[:, :2]\n",
        "\n",
        "        cholesky_factor = np.linalg.cholesky(covariance)\n",
        "        d = measurements - mean\n",
        "        z = scipy.linalg.solve_triangular(\n",
        "            cholesky_factor, d.T, lower=True, check_finite=False,\n",
        "            overwrite_b=True)\n",
        "        squared_maha = np.sum(z * z, axis=0)\n",
        "        return squared_maha"
      ],
      "metadata": {
        "id": "O7DK0fT0Ijhv"
      },
      "execution_count": null,
      "outputs": []
    },
    {
      "cell_type": "code",
      "source": [
        "y_predict = []\n",
        "model.eval()\n",
        "with torch.no_grad():\n",
        "  for x in x_test:\n",
        "    kalman = KalmanBoxTracker(x[0])\n",
        "    for seq in x[1:]:\n",
        "      kalman.predict()\n",
        "      kalman.update(seq)\n",
        "    y_predict.append(kalman.predict())\n",
        "\n",
        "y_predict = np.array(y_predict)\n",
        "y_predict = y_predict.squeeze()\n",
        "loss = nn.MSELoss()\n",
        "print('mseLoss = {}'.format(loss(batch_xyxy2cxcy(torch.from_numpy(y_test)), batch_xyxy2cxcy(torch.from_numpy(y_predict)))))\n",
        "print('IOU = {}'.format(generalized_iou(torch.from_numpy(y_test), torch.from_numpy(y_predict))))"
      ],
      "metadata": {
        "colab": {
          "base_uri": "https://localhost:8080/"
        },
        "id": "uBWbnzMO6eem",
        "outputId": "057b0487-bade-4b15-eafe-be5397161438"
      },
      "execution_count": null,
      "outputs": [
        {
          "output_type": "stream",
          "name": "stdout",
          "text": [
            "mseLoss = 1.7858867067843676e-05\n",
            "IOU = 0.8835493537051713\n"
          ]
        }
      ]
    }
  ],
  "metadata": {
    "interpreter": {
      "hash": "a5abc2754984a510d8e6f1bcf91c96ac3d3601a907d48f010be8d43d296fc936"
    },
    "kernelspec": {
      "display_name": "Python 3.9.7 ('base')",
      "language": "python",
      "name": "python3"
    },
    "language_info": {
      "codemirror_mode": {
        "name": "ipython",
        "version": 3
      },
      "file_extension": ".py",
      "mimetype": "text/x-python",
      "name": "python",
      "nbconvert_exporter": "python",
      "pygments_lexer": "ipython3",
      "version": "3.9.7"
    },
    "orig_nbformat": 4,
    "colab": {
      "name": "KITTIDataset.ipynb",
      "provenance": [],
      "collapsed_sections": [],
      "include_colab_link": true
    },
    "accelerator": "GPU",
    "gpuClass": "standard",
    "widgets": {
      "application/vnd.jupyter.widget-state+json": {
        "c8260ffae81a4bfca5c36e0bbffdf237": {
          "model_module": "@jupyter-widgets/controls",
          "model_name": "HBoxModel",
          "model_module_version": "1.5.0",
          "state": {
            "_dom_classes": [],
            "_model_module": "@jupyter-widgets/controls",
            "_model_module_version": "1.5.0",
            "_model_name": "HBoxModel",
            "_view_count": null,
            "_view_module": "@jupyter-widgets/controls",
            "_view_module_version": "1.5.0",
            "_view_name": "HBoxView",
            "box_style": "",
            "children": [
              "IPY_MODEL_440cc26a3bd04667991cf57a49cc121b",
              "IPY_MODEL_63170d9a24194576b4ec06b8eb413754",
              "IPY_MODEL_73d5d6dee9654d73b216f74647754850"
            ],
            "layout": "IPY_MODEL_6c34905232cd415c8b4f4621699898e0"
          }
        },
        "440cc26a3bd04667991cf57a49cc121b": {
          "model_module": "@jupyter-widgets/controls",
          "model_name": "HTMLModel",
          "model_module_version": "1.5.0",
          "state": {
            "_dom_classes": [],
            "_model_module": "@jupyter-widgets/controls",
            "_model_module_version": "1.5.0",
            "_model_name": "HTMLModel",
            "_view_count": null,
            "_view_module": "@jupyter-widgets/controls",
            "_view_module_version": "1.5.0",
            "_view_name": "HTMLView",
            "description": "",
            "description_tooltip": null,
            "layout": "IPY_MODEL_53d9fbf03ad64e8ab1c260b253e36006",
            "placeholder": "​",
            "style": "IPY_MODEL_b3f9e6b704ff48ef9532d59a7e019460",
            "value": ""
          }
        },
        "63170d9a24194576b4ec06b8eb413754": {
          "model_module": "@jupyter-widgets/controls",
          "model_name": "FloatProgressModel",
          "model_module_version": "1.5.0",
          "state": {
            "_dom_classes": [],
            "_model_module": "@jupyter-widgets/controls",
            "_model_module_version": "1.5.0",
            "_model_name": "FloatProgressModel",
            "_view_count": null,
            "_view_module": "@jupyter-widgets/controls",
            "_view_module_version": "1.5.0",
            "_view_name": "ProgressView",
            "bar_style": "success",
            "description": "",
            "description_tooltip": null,
            "layout": "IPY_MODEL_fde02ac980214efea3304ac1fa461f46",
            "max": 1,
            "min": 0,
            "orientation": "horizontal",
            "style": "IPY_MODEL_253bec549c5749f9a9971f7d05a87f1d",
            "value": 1
          }
        },
        "73d5d6dee9654d73b216f74647754850": {
          "model_module": "@jupyter-widgets/controls",
          "model_name": "HTMLModel",
          "model_module_version": "1.5.0",
          "state": {
            "_dom_classes": [],
            "_model_module": "@jupyter-widgets/controls",
            "_model_module_version": "1.5.0",
            "_model_name": "HTMLModel",
            "_view_count": null,
            "_view_module": "@jupyter-widgets/controls",
            "_view_module_version": "1.5.0",
            "_view_name": "HTMLView",
            "description": "",
            "description_tooltip": null,
            "layout": "IPY_MODEL_436e0559d2e24680b48f71979d2e2085",
            "placeholder": "​",
            "style": "IPY_MODEL_aee6d318f9504d9dae97866127bfc2f6",
            "value": " 210/? [00:02&lt;00:00, 93.06it/s]"
          }
        },
        "6c34905232cd415c8b4f4621699898e0": {
          "model_module": "@jupyter-widgets/base",
          "model_name": "LayoutModel",
          "model_module_version": "1.2.0",
          "state": {
            "_model_module": "@jupyter-widgets/base",
            "_model_module_version": "1.2.0",
            "_model_name": "LayoutModel",
            "_view_count": null,
            "_view_module": "@jupyter-widgets/base",
            "_view_module_version": "1.2.0",
            "_view_name": "LayoutView",
            "align_content": null,
            "align_items": null,
            "align_self": null,
            "border": null,
            "bottom": null,
            "display": null,
            "flex": null,
            "flex_flow": null,
            "grid_area": null,
            "grid_auto_columns": null,
            "grid_auto_flow": null,
            "grid_auto_rows": null,
            "grid_column": null,
            "grid_gap": null,
            "grid_row": null,
            "grid_template_areas": null,
            "grid_template_columns": null,
            "grid_template_rows": null,
            "height": null,
            "justify_content": null,
            "justify_items": null,
            "left": null,
            "margin": null,
            "max_height": null,
            "max_width": null,
            "min_height": null,
            "min_width": null,
            "object_fit": null,
            "object_position": null,
            "order": null,
            "overflow": null,
            "overflow_x": null,
            "overflow_y": null,
            "padding": null,
            "right": null,
            "top": null,
            "visibility": null,
            "width": null
          }
        },
        "53d9fbf03ad64e8ab1c260b253e36006": {
          "model_module": "@jupyter-widgets/base",
          "model_name": "LayoutModel",
          "model_module_version": "1.2.0",
          "state": {
            "_model_module": "@jupyter-widgets/base",
            "_model_module_version": "1.2.0",
            "_model_name": "LayoutModel",
            "_view_count": null,
            "_view_module": "@jupyter-widgets/base",
            "_view_module_version": "1.2.0",
            "_view_name": "LayoutView",
            "align_content": null,
            "align_items": null,
            "align_self": null,
            "border": null,
            "bottom": null,
            "display": null,
            "flex": null,
            "flex_flow": null,
            "grid_area": null,
            "grid_auto_columns": null,
            "grid_auto_flow": null,
            "grid_auto_rows": null,
            "grid_column": null,
            "grid_gap": null,
            "grid_row": null,
            "grid_template_areas": null,
            "grid_template_columns": null,
            "grid_template_rows": null,
            "height": null,
            "justify_content": null,
            "justify_items": null,
            "left": null,
            "margin": null,
            "max_height": null,
            "max_width": null,
            "min_height": null,
            "min_width": null,
            "object_fit": null,
            "object_position": null,
            "order": null,
            "overflow": null,
            "overflow_x": null,
            "overflow_y": null,
            "padding": null,
            "right": null,
            "top": null,
            "visibility": null,
            "width": null
          }
        },
        "b3f9e6b704ff48ef9532d59a7e019460": {
          "model_module": "@jupyter-widgets/controls",
          "model_name": "DescriptionStyleModel",
          "model_module_version": "1.5.0",
          "state": {
            "_model_module": "@jupyter-widgets/controls",
            "_model_module_version": "1.5.0",
            "_model_name": "DescriptionStyleModel",
            "_view_count": null,
            "_view_module": "@jupyter-widgets/base",
            "_view_module_version": "1.2.0",
            "_view_name": "StyleView",
            "description_width": ""
          }
        },
        "fde02ac980214efea3304ac1fa461f46": {
          "model_module": "@jupyter-widgets/base",
          "model_name": "LayoutModel",
          "model_module_version": "1.2.0",
          "state": {
            "_model_module": "@jupyter-widgets/base",
            "_model_module_version": "1.2.0",
            "_model_name": "LayoutModel",
            "_view_count": null,
            "_view_module": "@jupyter-widgets/base",
            "_view_module_version": "1.2.0",
            "_view_name": "LayoutView",
            "align_content": null,
            "align_items": null,
            "align_self": null,
            "border": null,
            "bottom": null,
            "display": null,
            "flex": null,
            "flex_flow": null,
            "grid_area": null,
            "grid_auto_columns": null,
            "grid_auto_flow": null,
            "grid_auto_rows": null,
            "grid_column": null,
            "grid_gap": null,
            "grid_row": null,
            "grid_template_areas": null,
            "grid_template_columns": null,
            "grid_template_rows": null,
            "height": null,
            "justify_content": null,
            "justify_items": null,
            "left": null,
            "margin": null,
            "max_height": null,
            "max_width": null,
            "min_height": null,
            "min_width": null,
            "object_fit": null,
            "object_position": null,
            "order": null,
            "overflow": null,
            "overflow_x": null,
            "overflow_y": null,
            "padding": null,
            "right": null,
            "top": null,
            "visibility": null,
            "width": "20px"
          }
        },
        "253bec549c5749f9a9971f7d05a87f1d": {
          "model_module": "@jupyter-widgets/controls",
          "model_name": "ProgressStyleModel",
          "model_module_version": "1.5.0",
          "state": {
            "_model_module": "@jupyter-widgets/controls",
            "_model_module_version": "1.5.0",
            "_model_name": "ProgressStyleModel",
            "_view_count": null,
            "_view_module": "@jupyter-widgets/base",
            "_view_module_version": "1.2.0",
            "_view_name": "StyleView",
            "bar_color": null,
            "description_width": ""
          }
        },
        "436e0559d2e24680b48f71979d2e2085": {
          "model_module": "@jupyter-widgets/base",
          "model_name": "LayoutModel",
          "model_module_version": "1.2.0",
          "state": {
            "_model_module": "@jupyter-widgets/base",
            "_model_module_version": "1.2.0",
            "_model_name": "LayoutModel",
            "_view_count": null,
            "_view_module": "@jupyter-widgets/base",
            "_view_module_version": "1.2.0",
            "_view_name": "LayoutView",
            "align_content": null,
            "align_items": null,
            "align_self": null,
            "border": null,
            "bottom": null,
            "display": null,
            "flex": null,
            "flex_flow": null,
            "grid_area": null,
            "grid_auto_columns": null,
            "grid_auto_flow": null,
            "grid_auto_rows": null,
            "grid_column": null,
            "grid_gap": null,
            "grid_row": null,
            "grid_template_areas": null,
            "grid_template_columns": null,
            "grid_template_rows": null,
            "height": null,
            "justify_content": null,
            "justify_items": null,
            "left": null,
            "margin": null,
            "max_height": null,
            "max_width": null,
            "min_height": null,
            "min_width": null,
            "object_fit": null,
            "object_position": null,
            "order": null,
            "overflow": null,
            "overflow_x": null,
            "overflow_y": null,
            "padding": null,
            "right": null,
            "top": null,
            "visibility": null,
            "width": null
          }
        },
        "aee6d318f9504d9dae97866127bfc2f6": {
          "model_module": "@jupyter-widgets/controls",
          "model_name": "DescriptionStyleModel",
          "model_module_version": "1.5.0",
          "state": {
            "_model_module": "@jupyter-widgets/controls",
            "_model_module_version": "1.5.0",
            "_model_name": "DescriptionStyleModel",
            "_view_count": null,
            "_view_module": "@jupyter-widgets/base",
            "_view_module_version": "1.2.0",
            "_view_name": "StyleView",
            "description_width": ""
          }
        },
        "763e5d7ec6e7418bba62b6615ffa5984": {
          "model_module": "@jupyter-widgets/controls",
          "model_name": "HBoxModel",
          "model_module_version": "1.5.0",
          "state": {
            "_dom_classes": [],
            "_model_module": "@jupyter-widgets/controls",
            "_model_module_version": "1.5.0",
            "_model_name": "HBoxModel",
            "_view_count": null,
            "_view_module": "@jupyter-widgets/controls",
            "_view_module_version": "1.5.0",
            "_view_name": "HBoxView",
            "box_style": "",
            "children": [
              "IPY_MODEL_a588857cd9674866a038225c898a2ac3",
              "IPY_MODEL_c84e6286b44e47db90398bad0f0da264",
              "IPY_MODEL_d59070b5ef1945c6bfb5dfa467ceb81d"
            ],
            "layout": "IPY_MODEL_0f79c341cc1e443db453be6831754c4f"
          }
        },
        "a588857cd9674866a038225c898a2ac3": {
          "model_module": "@jupyter-widgets/controls",
          "model_name": "HTMLModel",
          "model_module_version": "1.5.0",
          "state": {
            "_dom_classes": [],
            "_model_module": "@jupyter-widgets/controls",
            "_model_module_version": "1.5.0",
            "_model_name": "HTMLModel",
            "_view_count": null,
            "_view_module": "@jupyter-widgets/controls",
            "_view_module_version": "1.5.0",
            "_view_name": "HTMLView",
            "description": "",
            "description_tooltip": null,
            "layout": "IPY_MODEL_adcdfda8837e4b7aa501f8181521407e",
            "placeholder": "​",
            "style": "IPY_MODEL_5b1575c9f4b34c1bb21c404494231d0a",
            "value": "100%"
          }
        },
        "c84e6286b44e47db90398bad0f0da264": {
          "model_module": "@jupyter-widgets/controls",
          "model_name": "FloatProgressModel",
          "model_module_version": "1.5.0",
          "state": {
            "_dom_classes": [],
            "_model_module": "@jupyter-widgets/controls",
            "_model_module_version": "1.5.0",
            "_model_name": "FloatProgressModel",
            "_view_count": null,
            "_view_module": "@jupyter-widgets/controls",
            "_view_module_version": "1.5.0",
            "_view_name": "ProgressView",
            "bar_style": "success",
            "description": "",
            "description_tooltip": null,
            "layout": "IPY_MODEL_aadc58d3df264dfc9ffaad7f7236e3d2",
            "max": 53,
            "min": 0,
            "orientation": "horizontal",
            "style": "IPY_MODEL_b630152b88f34691bde687a74769d63b",
            "value": 53
          }
        },
        "d59070b5ef1945c6bfb5dfa467ceb81d": {
          "model_module": "@jupyter-widgets/controls",
          "model_name": "HTMLModel",
          "model_module_version": "1.5.0",
          "state": {
            "_dom_classes": [],
            "_model_module": "@jupyter-widgets/controls",
            "_model_module_version": "1.5.0",
            "_model_name": "HTMLModel",
            "_view_count": null,
            "_view_module": "@jupyter-widgets/controls",
            "_view_module_version": "1.5.0",
            "_view_name": "HTMLView",
            "description": "",
            "description_tooltip": null,
            "layout": "IPY_MODEL_f71a340a5b854d5db80a687528164a2c",
            "placeholder": "​",
            "style": "IPY_MODEL_134fc8cb8a75441cbfeaceef68c704e8",
            "value": " 53/53 [00:00&lt;00:00, 229.16it/s]"
          }
        },
        "0f79c341cc1e443db453be6831754c4f": {
          "model_module": "@jupyter-widgets/base",
          "model_name": "LayoutModel",
          "model_module_version": "1.2.0",
          "state": {
            "_model_module": "@jupyter-widgets/base",
            "_model_module_version": "1.2.0",
            "_model_name": "LayoutModel",
            "_view_count": null,
            "_view_module": "@jupyter-widgets/base",
            "_view_module_version": "1.2.0",
            "_view_name": "LayoutView",
            "align_content": null,
            "align_items": null,
            "align_self": null,
            "border": null,
            "bottom": null,
            "display": null,
            "flex": null,
            "flex_flow": null,
            "grid_area": null,
            "grid_auto_columns": null,
            "grid_auto_flow": null,
            "grid_auto_rows": null,
            "grid_column": null,
            "grid_gap": null,
            "grid_row": null,
            "grid_template_areas": null,
            "grid_template_columns": null,
            "grid_template_rows": null,
            "height": null,
            "justify_content": null,
            "justify_items": null,
            "left": null,
            "margin": null,
            "max_height": null,
            "max_width": null,
            "min_height": null,
            "min_width": null,
            "object_fit": null,
            "object_position": null,
            "order": null,
            "overflow": null,
            "overflow_x": null,
            "overflow_y": null,
            "padding": null,
            "right": null,
            "top": null,
            "visibility": null,
            "width": null
          }
        },
        "adcdfda8837e4b7aa501f8181521407e": {
          "model_module": "@jupyter-widgets/base",
          "model_name": "LayoutModel",
          "model_module_version": "1.2.0",
          "state": {
            "_model_module": "@jupyter-widgets/base",
            "_model_module_version": "1.2.0",
            "_model_name": "LayoutModel",
            "_view_count": null,
            "_view_module": "@jupyter-widgets/base",
            "_view_module_version": "1.2.0",
            "_view_name": "LayoutView",
            "align_content": null,
            "align_items": null,
            "align_self": null,
            "border": null,
            "bottom": null,
            "display": null,
            "flex": null,
            "flex_flow": null,
            "grid_area": null,
            "grid_auto_columns": null,
            "grid_auto_flow": null,
            "grid_auto_rows": null,
            "grid_column": null,
            "grid_gap": null,
            "grid_row": null,
            "grid_template_areas": null,
            "grid_template_columns": null,
            "grid_template_rows": null,
            "height": null,
            "justify_content": null,
            "justify_items": null,
            "left": null,
            "margin": null,
            "max_height": null,
            "max_width": null,
            "min_height": null,
            "min_width": null,
            "object_fit": null,
            "object_position": null,
            "order": null,
            "overflow": null,
            "overflow_x": null,
            "overflow_y": null,
            "padding": null,
            "right": null,
            "top": null,
            "visibility": null,
            "width": null
          }
        },
        "5b1575c9f4b34c1bb21c404494231d0a": {
          "model_module": "@jupyter-widgets/controls",
          "model_name": "DescriptionStyleModel",
          "model_module_version": "1.5.0",
          "state": {
            "_model_module": "@jupyter-widgets/controls",
            "_model_module_version": "1.5.0",
            "_model_name": "DescriptionStyleModel",
            "_view_count": null,
            "_view_module": "@jupyter-widgets/base",
            "_view_module_version": "1.2.0",
            "_view_name": "StyleView",
            "description_width": ""
          }
        },
        "aadc58d3df264dfc9ffaad7f7236e3d2": {
          "model_module": "@jupyter-widgets/base",
          "model_name": "LayoutModel",
          "model_module_version": "1.2.0",
          "state": {
            "_model_module": "@jupyter-widgets/base",
            "_model_module_version": "1.2.0",
            "_model_name": "LayoutModel",
            "_view_count": null,
            "_view_module": "@jupyter-widgets/base",
            "_view_module_version": "1.2.0",
            "_view_name": "LayoutView",
            "align_content": null,
            "align_items": null,
            "align_self": null,
            "border": null,
            "bottom": null,
            "display": null,
            "flex": null,
            "flex_flow": null,
            "grid_area": null,
            "grid_auto_columns": null,
            "grid_auto_flow": null,
            "grid_auto_rows": null,
            "grid_column": null,
            "grid_gap": null,
            "grid_row": null,
            "grid_template_areas": null,
            "grid_template_columns": null,
            "grid_template_rows": null,
            "height": null,
            "justify_content": null,
            "justify_items": null,
            "left": null,
            "margin": null,
            "max_height": null,
            "max_width": null,
            "min_height": null,
            "min_width": null,
            "object_fit": null,
            "object_position": null,
            "order": null,
            "overflow": null,
            "overflow_x": null,
            "overflow_y": null,
            "padding": null,
            "right": null,
            "top": null,
            "visibility": null,
            "width": null
          }
        },
        "b630152b88f34691bde687a74769d63b": {
          "model_module": "@jupyter-widgets/controls",
          "model_name": "ProgressStyleModel",
          "model_module_version": "1.5.0",
          "state": {
            "_model_module": "@jupyter-widgets/controls",
            "_model_module_version": "1.5.0",
            "_model_name": "ProgressStyleModel",
            "_view_count": null,
            "_view_module": "@jupyter-widgets/base",
            "_view_module_version": "1.2.0",
            "_view_name": "StyleView",
            "bar_color": null,
            "description_width": ""
          }
        },
        "f71a340a5b854d5db80a687528164a2c": {
          "model_module": "@jupyter-widgets/base",
          "model_name": "LayoutModel",
          "model_module_version": "1.2.0",
          "state": {
            "_model_module": "@jupyter-widgets/base",
            "_model_module_version": "1.2.0",
            "_model_name": "LayoutModel",
            "_view_count": null,
            "_view_module": "@jupyter-widgets/base",
            "_view_module_version": "1.2.0",
            "_view_name": "LayoutView",
            "align_content": null,
            "align_items": null,
            "align_self": null,
            "border": null,
            "bottom": null,
            "display": null,
            "flex": null,
            "flex_flow": null,
            "grid_area": null,
            "grid_auto_columns": null,
            "grid_auto_flow": null,
            "grid_auto_rows": null,
            "grid_column": null,
            "grid_gap": null,
            "grid_row": null,
            "grid_template_areas": null,
            "grid_template_columns": null,
            "grid_template_rows": null,
            "height": null,
            "justify_content": null,
            "justify_items": null,
            "left": null,
            "margin": null,
            "max_height": null,
            "max_width": null,
            "min_height": null,
            "min_width": null,
            "object_fit": null,
            "object_position": null,
            "order": null,
            "overflow": null,
            "overflow_x": null,
            "overflow_y": null,
            "padding": null,
            "right": null,
            "top": null,
            "visibility": null,
            "width": null
          }
        },
        "134fc8cb8a75441cbfeaceef68c704e8": {
          "model_module": "@jupyter-widgets/controls",
          "model_name": "DescriptionStyleModel",
          "model_module_version": "1.5.0",
          "state": {
            "_model_module": "@jupyter-widgets/controls",
            "_model_module_version": "1.5.0",
            "_model_name": "DescriptionStyleModel",
            "_view_count": null,
            "_view_module": "@jupyter-widgets/base",
            "_view_module_version": "1.2.0",
            "_view_name": "StyleView",
            "description_width": ""
          }
        },
        "bdcb92b7fc8b4e41a3096d49c6765602": {
          "model_module": "@jupyter-widgets/controls",
          "model_name": "HBoxModel",
          "model_module_version": "1.5.0",
          "state": {
            "_dom_classes": [],
            "_model_module": "@jupyter-widgets/controls",
            "_model_module_version": "1.5.0",
            "_model_name": "HBoxModel",
            "_view_count": null,
            "_view_module": "@jupyter-widgets/controls",
            "_view_module_version": "1.5.0",
            "_view_name": "HBoxView",
            "box_style": "",
            "children": [
              "IPY_MODEL_ab167c060d6d420f92c0ac1ca16d3d49",
              "IPY_MODEL_55c3c40db59840ae936c79ad9d9a0171",
              "IPY_MODEL_19970eb8ffc548dfbdd1057b403c8c71"
            ],
            "layout": "IPY_MODEL_3082079e129843e5a0a278de331e57ca"
          }
        }
      }
    }
  },
  "nbformat": 4,
  "nbformat_minor": 0
}